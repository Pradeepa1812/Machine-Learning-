{
  "nbformat": 4,
  "nbformat_minor": 0,
  "metadata": {
    "colab": {
      "name": "Loan Prediction-Task-3",
      "provenance": [],
      "collapsed_sections": []
    },
    "kernelspec": {
      "display_name": "Python 3",
      "name": "python3"
    }
  },
  "cells": [
    {
      "cell_type": "markdown",
      "metadata": {
        "id": "XrMurqU_BD98"
      },
      "source": [
        "Importing the required libraries"
      ]
    },
    {
      "cell_type": "code",
      "metadata": {
        "id": "hNnVEqRK9b1w"
      },
      "source": [
        "import pandas as pd\r\n",
        "import numpy as np\r\n",
        "import matplotlib.pyplot as plt\r\n",
        "import seaborn as sns"
      ],
      "execution_count": 1,
      "outputs": []
    },
    {
      "cell_type": "markdown",
      "metadata": {
        "id": "rvwLCehuBAbL"
      },
      "source": [
        "Read the data"
      ]
    },
    {
      "cell_type": "code",
      "metadata": {
        "id": "kWSiHlty9mre"
      },
      "source": [
        "data=pd.read_csv(\"https://raw.githubusercontent.com/dphi-official/Datasets/master/Loan_Data/loan_train.csv\",index_col=0)\r\n",
        "test_data = pd.read_csv('https://raw.githubusercontent.com/dphi-official/Datasets/master/Loan_Data/loan_test.csv')"
      ],
      "execution_count": 2,
      "outputs": []
    },
    {
      "cell_type": "markdown",
      "metadata": {
        "id": "RBeztV7kBIog"
      },
      "source": [
        "First 4 data"
      ]
    },
    {
      "cell_type": "code",
      "metadata": {
        "id": "buGpabWr9t2K",
        "colab": {
          "base_uri": "https://localhost:8080/",
          "height": 227
        },
        "outputId": "3a8084ce-5f6d-4108-8077-fe5790d3176e"
      },
      "source": [
        "data.head(4)"
      ],
      "execution_count": 3,
      "outputs": [
        {
          "output_type": "execute_result",
          "data": {
            "text/html": [
              "<div>\n",
              "<style scoped>\n",
              "    .dataframe tbody tr th:only-of-type {\n",
              "        vertical-align: middle;\n",
              "    }\n",
              "\n",
              "    .dataframe tbody tr th {\n",
              "        vertical-align: top;\n",
              "    }\n",
              "\n",
              "    .dataframe thead th {\n",
              "        text-align: right;\n",
              "    }\n",
              "</style>\n",
              "<table border=\"1\" class=\"dataframe\">\n",
              "  <thead>\n",
              "    <tr style=\"text-align: right;\">\n",
              "      <th></th>\n",
              "      <th>Loan_ID</th>\n",
              "      <th>Gender</th>\n",
              "      <th>Married</th>\n",
              "      <th>Dependents</th>\n",
              "      <th>Education</th>\n",
              "      <th>Self_Employed</th>\n",
              "      <th>ApplicantIncome</th>\n",
              "      <th>CoapplicantIncome</th>\n",
              "      <th>LoanAmount</th>\n",
              "      <th>Loan_Amount_Term</th>\n",
              "      <th>Credit_History</th>\n",
              "      <th>Property_Area</th>\n",
              "      <th>Loan_Status</th>\n",
              "    </tr>\n",
              "  </thead>\n",
              "  <tbody>\n",
              "    <tr>\n",
              "      <th>0</th>\n",
              "      <td>LP002305</td>\n",
              "      <td>Female</td>\n",
              "      <td>No</td>\n",
              "      <td>0</td>\n",
              "      <td>Graduate</td>\n",
              "      <td>No</td>\n",
              "      <td>4547</td>\n",
              "      <td>0.0</td>\n",
              "      <td>115.0</td>\n",
              "      <td>360.0</td>\n",
              "      <td>1.0</td>\n",
              "      <td>Semiurban</td>\n",
              "      <td>1</td>\n",
              "    </tr>\n",
              "    <tr>\n",
              "      <th>1</th>\n",
              "      <td>LP001715</td>\n",
              "      <td>Male</td>\n",
              "      <td>Yes</td>\n",
              "      <td>3+</td>\n",
              "      <td>Not Graduate</td>\n",
              "      <td>Yes</td>\n",
              "      <td>5703</td>\n",
              "      <td>0.0</td>\n",
              "      <td>130.0</td>\n",
              "      <td>360.0</td>\n",
              "      <td>1.0</td>\n",
              "      <td>Rural</td>\n",
              "      <td>1</td>\n",
              "    </tr>\n",
              "    <tr>\n",
              "      <th>2</th>\n",
              "      <td>LP002086</td>\n",
              "      <td>Female</td>\n",
              "      <td>Yes</td>\n",
              "      <td>0</td>\n",
              "      <td>Graduate</td>\n",
              "      <td>No</td>\n",
              "      <td>4333</td>\n",
              "      <td>2451.0</td>\n",
              "      <td>110.0</td>\n",
              "      <td>360.0</td>\n",
              "      <td>1.0</td>\n",
              "      <td>Urban</td>\n",
              "      <td>0</td>\n",
              "    </tr>\n",
              "    <tr>\n",
              "      <th>3</th>\n",
              "      <td>LP001136</td>\n",
              "      <td>Male</td>\n",
              "      <td>Yes</td>\n",
              "      <td>0</td>\n",
              "      <td>Not Graduate</td>\n",
              "      <td>Yes</td>\n",
              "      <td>4695</td>\n",
              "      <td>0.0</td>\n",
              "      <td>96.0</td>\n",
              "      <td>NaN</td>\n",
              "      <td>1.0</td>\n",
              "      <td>Urban</td>\n",
              "      <td>1</td>\n",
              "    </tr>\n",
              "  </tbody>\n",
              "</table>\n",
              "</div>"
            ],
            "text/plain": [
              "    Loan_ID  Gender Married  ... Credit_History Property_Area Loan_Status\n",
              "0  LP002305  Female      No  ...            1.0     Semiurban           1\n",
              "1  LP001715    Male     Yes  ...            1.0         Rural           1\n",
              "2  LP002086  Female     Yes  ...            1.0         Urban           0\n",
              "3  LP001136    Male     Yes  ...            1.0         Urban           1\n",
              "\n",
              "[4 rows x 13 columns]"
            ]
          },
          "metadata": {
            "tags": []
          },
          "execution_count": 3
        }
      ]
    },
    {
      "cell_type": "code",
      "metadata": {
        "id": "NFJfjExd9vRN",
        "colab": {
          "base_uri": "https://localhost:8080/",
          "height": 179
        },
        "outputId": "dd33f88f-d30d-4a2d-a2cc-e449ab01790a"
      },
      "source": [
        "test_data.head(3)"
      ],
      "execution_count": 4,
      "outputs": [
        {
          "output_type": "execute_result",
          "data": {
            "text/html": [
              "<div>\n",
              "<style scoped>\n",
              "    .dataframe tbody tr th:only-of-type {\n",
              "        vertical-align: middle;\n",
              "    }\n",
              "\n",
              "    .dataframe tbody tr th {\n",
              "        vertical-align: top;\n",
              "    }\n",
              "\n",
              "    .dataframe thead th {\n",
              "        text-align: right;\n",
              "    }\n",
              "</style>\n",
              "<table border=\"1\" class=\"dataframe\">\n",
              "  <thead>\n",
              "    <tr style=\"text-align: right;\">\n",
              "      <th></th>\n",
              "      <th>Loan_ID</th>\n",
              "      <th>Gender</th>\n",
              "      <th>Married</th>\n",
              "      <th>Dependents</th>\n",
              "      <th>Education</th>\n",
              "      <th>Self_Employed</th>\n",
              "      <th>ApplicantIncome</th>\n",
              "      <th>CoapplicantIncome</th>\n",
              "      <th>LoanAmount</th>\n",
              "      <th>Loan_Amount_Term</th>\n",
              "      <th>Credit_History</th>\n",
              "      <th>Property_Area</th>\n",
              "    </tr>\n",
              "  </thead>\n",
              "  <tbody>\n",
              "    <tr>\n",
              "      <th>0</th>\n",
              "      <td>LP001116</td>\n",
              "      <td>Male</td>\n",
              "      <td>No</td>\n",
              "      <td>0</td>\n",
              "      <td>Not Graduate</td>\n",
              "      <td>No</td>\n",
              "      <td>3748</td>\n",
              "      <td>1668.0</td>\n",
              "      <td>110.0</td>\n",
              "      <td>360.0</td>\n",
              "      <td>1.0</td>\n",
              "      <td>Semiurban</td>\n",
              "    </tr>\n",
              "    <tr>\n",
              "      <th>1</th>\n",
              "      <td>LP001488</td>\n",
              "      <td>Male</td>\n",
              "      <td>Yes</td>\n",
              "      <td>3+</td>\n",
              "      <td>Graduate</td>\n",
              "      <td>No</td>\n",
              "      <td>4000</td>\n",
              "      <td>7750.0</td>\n",
              "      <td>290.0</td>\n",
              "      <td>360.0</td>\n",
              "      <td>1.0</td>\n",
              "      <td>Semiurban</td>\n",
              "    </tr>\n",
              "    <tr>\n",
              "      <th>2</th>\n",
              "      <td>LP002138</td>\n",
              "      <td>Male</td>\n",
              "      <td>Yes</td>\n",
              "      <td>0</td>\n",
              "      <td>Graduate</td>\n",
              "      <td>No</td>\n",
              "      <td>2625</td>\n",
              "      <td>6250.0</td>\n",
              "      <td>187.0</td>\n",
              "      <td>360.0</td>\n",
              "      <td>1.0</td>\n",
              "      <td>Rural</td>\n",
              "    </tr>\n",
              "  </tbody>\n",
              "</table>\n",
              "</div>"
            ],
            "text/plain": [
              "    Loan_ID Gender Married  ... Loan_Amount_Term Credit_History Property_Area\n",
              "0  LP001116   Male      No  ...            360.0            1.0     Semiurban\n",
              "1  LP001488   Male     Yes  ...            360.0            1.0     Semiurban\n",
              "2  LP002138   Male     Yes  ...            360.0            1.0         Rural\n",
              "\n",
              "[3 rows x 12 columns]"
            ]
          },
          "metadata": {
            "tags": []
          },
          "execution_count": 4
        }
      ]
    },
    {
      "cell_type": "markdown",
      "metadata": {
        "id": "rt_KGaiB-a6E"
      },
      "source": [
        "Rows and columns"
      ]
    },
    {
      "cell_type": "code",
      "metadata": {
        "id": "omg2mPDg9yAJ",
        "colab": {
          "base_uri": "https://localhost:8080/"
        },
        "outputId": "cd5d5ee4-3275-4a8f-f1ee-7a1d83488291"
      },
      "source": [
        "data.shape"
      ],
      "execution_count": 5,
      "outputs": [
        {
          "output_type": "execute_result",
          "data": {
            "text/plain": [
              "(491, 13)"
            ]
          },
          "metadata": {
            "tags": []
          },
          "execution_count": 5
        }
      ]
    },
    {
      "cell_type": "code",
      "metadata": {
        "id": "FpPDAU7m954j",
        "colab": {
          "base_uri": "https://localhost:8080/"
        },
        "outputId": "6e0c3849-82c9-4a2f-9354-a35e960604bf"
      },
      "source": [
        "test_data.shape"
      ],
      "execution_count": 6,
      "outputs": [
        {
          "output_type": "execute_result",
          "data": {
            "text/plain": [
              "(123, 12)"
            ]
          },
          "metadata": {
            "tags": []
          },
          "execution_count": 6
        }
      ]
    },
    {
      "cell_type": "markdown",
      "metadata": {
        "id": "aom18eTW-naR"
      },
      "source": [
        "Summary of the dataset"
      ]
    },
    {
      "cell_type": "code",
      "metadata": {
        "id": "YyYTbsQm97kU",
        "colab": {
          "base_uri": "https://localhost:8080/"
        },
        "outputId": "17cbbaeb-4b2f-4c24-85ed-ae5b61bfc981"
      },
      "source": [
        "data.info()"
      ],
      "execution_count": 7,
      "outputs": [
        {
          "output_type": "stream",
          "text": [
            "<class 'pandas.core.frame.DataFrame'>\n",
            "Int64Index: 491 entries, 0 to 490\n",
            "Data columns (total 13 columns):\n",
            " #   Column             Non-Null Count  Dtype  \n",
            "---  ------             --------------  -----  \n",
            " 0   Loan_ID            491 non-null    object \n",
            " 1   Gender             481 non-null    object \n",
            " 2   Married            490 non-null    object \n",
            " 3   Dependents         482 non-null    object \n",
            " 4   Education          491 non-null    object \n",
            " 5   Self_Employed      462 non-null    object \n",
            " 6   ApplicantIncome    491 non-null    int64  \n",
            " 7   CoapplicantIncome  491 non-null    float64\n",
            " 8   LoanAmount         475 non-null    float64\n",
            " 9   Loan_Amount_Term   478 non-null    float64\n",
            " 10  Credit_History     448 non-null    float64\n",
            " 11  Property_Area      491 non-null    object \n",
            " 12  Loan_Status        491 non-null    int64  \n",
            "dtypes: float64(4), int64(2), object(7)\n",
            "memory usage: 53.7+ KB\n"
          ],
          "name": "stdout"
        }
      ]
    },
    {
      "cell_type": "code",
      "metadata": {
        "id": "GdSOAkHI-jpj",
        "colab": {
          "base_uri": "https://localhost:8080/"
        },
        "outputId": "b178c6f6-448c-40c2-c51d-83002cccde00"
      },
      "source": [
        "test_data.info()"
      ],
      "execution_count": 8,
      "outputs": [
        {
          "output_type": "stream",
          "text": [
            "<class 'pandas.core.frame.DataFrame'>\n",
            "RangeIndex: 123 entries, 0 to 122\n",
            "Data columns (total 12 columns):\n",
            " #   Column             Non-Null Count  Dtype  \n",
            "---  ------             --------------  -----  \n",
            " 0   Loan_ID            123 non-null    object \n",
            " 1   Gender             120 non-null    object \n",
            " 2   Married            121 non-null    object \n",
            " 3   Dependents         117 non-null    object \n",
            " 4   Education          123 non-null    object \n",
            " 5   Self_Employed      120 non-null    object \n",
            " 6   ApplicantIncome    123 non-null    int64  \n",
            " 7   CoapplicantIncome  123 non-null    float64\n",
            " 8   LoanAmount         117 non-null    float64\n",
            " 9   Loan_Amount_Term   122 non-null    float64\n",
            " 10  Credit_History     116 non-null    float64\n",
            " 11  Property_Area      123 non-null    object \n",
            "dtypes: float64(4), int64(1), object(7)\n",
            "memory usage: 11.7+ KB\n"
          ],
          "name": "stdout"
        }
      ]
    },
    {
      "cell_type": "markdown",
      "metadata": {
        "id": "-W3-n9xfMGhr"
      },
      "source": [
        "Checking the duplicate value is present or not"
      ]
    },
    {
      "cell_type": "code",
      "metadata": {
        "id": "tqCC11N6MG4b"
      },
      "source": [
        "data.drop_duplicates(keep=False, inplace=True)"
      ],
      "execution_count": 9,
      "outputs": []
    },
    {
      "cell_type": "code",
      "metadata": {
        "id": "ZCDfFQTFNdXt",
        "colab": {
          "base_uri": "https://localhost:8080/"
        },
        "outputId": "5003843f-85f2-4741-f3c9-9515809ba8c5"
      },
      "source": [
        "data.shape"
      ],
      "execution_count": 10,
      "outputs": [
        {
          "output_type": "execute_result",
          "data": {
            "text/plain": [
              "(491, 13)"
            ]
          },
          "metadata": {
            "tags": []
          },
          "execution_count": 10
        }
      ]
    },
    {
      "cell_type": "markdown",
      "metadata": {
        "id": "NVTs2N47_23D"
      },
      "source": [
        "Descriptive Statistics"
      ]
    },
    {
      "cell_type": "code",
      "metadata": {
        "id": "a1fyn8xF-mBM",
        "colab": {
          "base_uri": "https://localhost:8080/",
          "height": 297
        },
        "outputId": "6da85d87-42af-4a9e-df7f-6bfc3055bef9"
      },
      "source": [
        "data.describe()"
      ],
      "execution_count": 11,
      "outputs": [
        {
          "output_type": "execute_result",
          "data": {
            "text/html": [
              "<div>\n",
              "<style scoped>\n",
              "    .dataframe tbody tr th:only-of-type {\n",
              "        vertical-align: middle;\n",
              "    }\n",
              "\n",
              "    .dataframe tbody tr th {\n",
              "        vertical-align: top;\n",
              "    }\n",
              "\n",
              "    .dataframe thead th {\n",
              "        text-align: right;\n",
              "    }\n",
              "</style>\n",
              "<table border=\"1\" class=\"dataframe\">\n",
              "  <thead>\n",
              "    <tr style=\"text-align: right;\">\n",
              "      <th></th>\n",
              "      <th>ApplicantIncome</th>\n",
              "      <th>CoapplicantIncome</th>\n",
              "      <th>LoanAmount</th>\n",
              "      <th>Loan_Amount_Term</th>\n",
              "      <th>Credit_History</th>\n",
              "      <th>Loan_Status</th>\n",
              "    </tr>\n",
              "  </thead>\n",
              "  <tbody>\n",
              "    <tr>\n",
              "      <th>count</th>\n",
              "      <td>491.000000</td>\n",
              "      <td>491.000000</td>\n",
              "      <td>475.000000</td>\n",
              "      <td>478.000000</td>\n",
              "      <td>448.000000</td>\n",
              "      <td>491.000000</td>\n",
              "    </tr>\n",
              "    <tr>\n",
              "      <th>mean</th>\n",
              "      <td>5401.189409</td>\n",
              "      <td>1589.730998</td>\n",
              "      <td>145.014737</td>\n",
              "      <td>341.297071</td>\n",
              "      <td>0.848214</td>\n",
              "      <td>0.698574</td>\n",
              "    </tr>\n",
              "    <tr>\n",
              "      <th>std</th>\n",
              "      <td>6419.427177</td>\n",
              "      <td>2919.320624</td>\n",
              "      <td>86.310534</td>\n",
              "      <td>66.964051</td>\n",
              "      <td>0.359214</td>\n",
              "      <td>0.459345</td>\n",
              "    </tr>\n",
              "    <tr>\n",
              "      <th>min</th>\n",
              "      <td>150.000000</td>\n",
              "      <td>0.000000</td>\n",
              "      <td>17.000000</td>\n",
              "      <td>12.000000</td>\n",
              "      <td>0.000000</td>\n",
              "      <td>0.000000</td>\n",
              "    </tr>\n",
              "    <tr>\n",
              "      <th>25%</th>\n",
              "      <td>2923.500000</td>\n",
              "      <td>0.000000</td>\n",
              "      <td>100.000000</td>\n",
              "      <td>360.000000</td>\n",
              "      <td>1.000000</td>\n",
              "      <td>0.000000</td>\n",
              "    </tr>\n",
              "    <tr>\n",
              "      <th>50%</th>\n",
              "      <td>3865.000000</td>\n",
              "      <td>1229.000000</td>\n",
              "      <td>126.000000</td>\n",
              "      <td>360.000000</td>\n",
              "      <td>1.000000</td>\n",
              "      <td>1.000000</td>\n",
              "    </tr>\n",
              "    <tr>\n",
              "      <th>75%</th>\n",
              "      <td>5705.500000</td>\n",
              "      <td>2251.500000</td>\n",
              "      <td>162.000000</td>\n",
              "      <td>360.000000</td>\n",
              "      <td>1.000000</td>\n",
              "      <td>1.000000</td>\n",
              "    </tr>\n",
              "    <tr>\n",
              "      <th>max</th>\n",
              "      <td>81000.000000</td>\n",
              "      <td>41667.000000</td>\n",
              "      <td>700.000000</td>\n",
              "      <td>480.000000</td>\n",
              "      <td>1.000000</td>\n",
              "      <td>1.000000</td>\n",
              "    </tr>\n",
              "  </tbody>\n",
              "</table>\n",
              "</div>"
            ],
            "text/plain": [
              "       ApplicantIncome  CoapplicantIncome  ...  Credit_History  Loan_Status\n",
              "count       491.000000         491.000000  ...      448.000000   491.000000\n",
              "mean       5401.189409        1589.730998  ...        0.848214     0.698574\n",
              "std        6419.427177        2919.320624  ...        0.359214     0.459345\n",
              "min         150.000000           0.000000  ...        0.000000     0.000000\n",
              "25%        2923.500000           0.000000  ...        1.000000     0.000000\n",
              "50%        3865.000000        1229.000000  ...        1.000000     1.000000\n",
              "75%        5705.500000        2251.500000  ...        1.000000     1.000000\n",
              "max       81000.000000       41667.000000  ...        1.000000     1.000000\n",
              "\n",
              "[8 rows x 6 columns]"
            ]
          },
          "metadata": {
            "tags": []
          },
          "execution_count": 11
        }
      ]
    },
    {
      "cell_type": "code",
      "metadata": {
        "id": "SY8X6FlU-vP8"
      },
      "source": [
        "data.drop(['Loan_ID'],axis=1,inplace=True)\r\n",
        "test_data.drop(['Loan_ID'],axis=1,inplace=True)"
      ],
      "execution_count": 12,
      "outputs": []
    },
    {
      "cell_type": "markdown",
      "metadata": {
        "id": "sJ7D0C23_Zye"
      },
      "source": [
        "Contain Null value or not"
      ]
    },
    {
      "cell_type": "code",
      "metadata": {
        "id": "CODaRRXE_GUH",
        "colab": {
          "base_uri": "https://localhost:8080/"
        },
        "outputId": "479bb6fc-41cd-4c9b-ce07-8bb8cbbe5e18"
      },
      "source": [
        "data.isna().sum()"
      ],
      "execution_count": 13,
      "outputs": [
        {
          "output_type": "execute_result",
          "data": {
            "text/plain": [
              "Gender               10\n",
              "Married               1\n",
              "Dependents            9\n",
              "Education             0\n",
              "Self_Employed        29\n",
              "ApplicantIncome       0\n",
              "CoapplicantIncome     0\n",
              "LoanAmount           16\n",
              "Loan_Amount_Term     13\n",
              "Credit_History       43\n",
              "Property_Area         0\n",
              "Loan_Status           0\n",
              "dtype: int64"
            ]
          },
          "metadata": {
            "tags": []
          },
          "execution_count": 13
        }
      ]
    },
    {
      "cell_type": "code",
      "metadata": {
        "id": "t1g7WWHe_ebH",
        "colab": {
          "base_uri": "https://localhost:8080/"
        },
        "outputId": "32a6e6ae-6e38-4cf7-d0d6-cc3ff39db00b"
      },
      "source": [
        "test_data.isna().sum()"
      ],
      "execution_count": 14,
      "outputs": [
        {
          "output_type": "execute_result",
          "data": {
            "text/plain": [
              "Gender               3\n",
              "Married              2\n",
              "Dependents           6\n",
              "Education            0\n",
              "Self_Employed        3\n",
              "ApplicantIncome      0\n",
              "CoapplicantIncome    0\n",
              "LoanAmount           6\n",
              "Loan_Amount_Term     1\n",
              "Credit_History       7\n",
              "Property_Area        0\n",
              "dtype: int64"
            ]
          },
          "metadata": {
            "tags": []
          },
          "execution_count": 14
        }
      ]
    },
    {
      "cell_type": "markdown",
      "metadata": {
        "id": "j53JhXWU7N_e"
      },
      "source": [
        "Handling Missing Values"
      ]
    },
    {
      "cell_type": "markdown",
      "metadata": {
        "id": "dQP2gSnI8xjF"
      },
      "source": [
        "Training Data"
      ]
    },
    {
      "cell_type": "code",
      "metadata": {
        "id": "qejEq3XM7Jor"
      },
      "source": [
        "data['Gender'].fillna(method='ffill',axis='rows',inplace=True)\r\n",
        "data['Married'].fillna(method='ffill',axis='rows',inplace=True)\r\n",
        "data.Self_Employed.fillna(method='ffill',axis='rows',inplace=True)\r\n",
        "data['Dependents'].fillna(method='ffill',axis='rows',inplace=True)\r\n",
        "data['LoanAmount']=data['LoanAmount'].fillna(data['LoanAmount'].dropna().median())\r\n",
        "data['Loan_Amount_Term']=data['Loan_Amount_Term'].fillna(data['Loan_Amount_Term'].dropna().median())\r\n",
        "data['Credit_History']=data['Credit_History'].fillna(data['Credit_History'].dropna().median())"
      ],
      "execution_count": 15,
      "outputs": []
    },
    {
      "cell_type": "markdown",
      "metadata": {
        "id": "Dcw8AnYL8vWA"
      },
      "source": [
        "Test Data"
      ]
    },
    {
      "cell_type": "code",
      "metadata": {
        "id": "TErrSUGq8ump"
      },
      "source": [
        "test_data['Gender'].fillna(method='ffill',axis='rows',inplace=True)\r\n",
        "test_data['Married'].fillna(method='ffill',axis='rows',inplace=True)\r\n",
        "test_data.Self_Employed.fillna(method='ffill',axis='rows',inplace=True)\r\n",
        "test_data['Dependents'].fillna(method='ffill',axis='rows',inplace=True)\r\n",
        "test_data['LoanAmount']=test_data['LoanAmount'].fillna(test_data['LoanAmount'].dropna().median())\r\n",
        "test_data['Loan_Amount_Term'].fillna(method='ffill',axis='rows',inplace=True)\r\n",
        "test_data['Credit_History']=test_data['Credit_History'].fillna(test_data['Credit_History'].dropna().median())"
      ],
      "execution_count": 16,
      "outputs": []
    },
    {
      "cell_type": "markdown",
      "metadata": {
        "id": "O68dzotU9F9H"
      },
      "source": [
        "Correlation HeatMap"
      ]
    },
    {
      "cell_type": "code",
      "metadata": {
        "colab": {
          "base_uri": "https://localhost:8080/",
          "height": 373
        },
        "id": "deLTVTcdBd6X",
        "outputId": "31424f1b-c913-41f7-a34f-e579e850cca5"
      },
      "source": [
        "sns.heatmap(data.corr(),annot=True)"
      ],
      "execution_count": 17,
      "outputs": [
        {
          "output_type": "execute_result",
          "data": {
            "text/plain": [
              "<matplotlib.axes._subplots.AxesSubplot at 0x7f4141a1f860>"
            ]
          },
          "metadata": {
            "tags": []
          },
          "execution_count": 17
        },
        {
          "output_type": "display_data",
          "data": {
            "image/png": "[encoded data removed]",
            "text/plain": [
              "<Figure size 432x288 with 2 Axes>"
            ]
          },
          "metadata": {
            "tags": [],
            "needs_background": "light"
          }
        }
      ]
    },
    {
      "cell_type": "markdown",
      "metadata": {
        "id": "ONcxbCOWLG2F"
      },
      "source": [
        "Visualization"
      ]
    },
    {
      "cell_type": "code",
      "metadata": {
        "colab": {
          "base_uri": "https://localhost:8080/",
          "height": 300
        },
        "id": "MN8thqCJKkFH",
        "outputId": "5b9933fe-918d-4b1a-df01-7221839d8388"
      },
      "source": [
        "sns.countplot(x='Gender',hue='Loan_Status',data=data)"
      ],
      "execution_count": 18,
      "outputs": [
        {
          "output_type": "execute_result",
          "data": {
            "text/plain": [
              "<matplotlib.axes._subplots.AxesSubplot at 0x7f413f0c9c88>"
            ]
          },
          "metadata": {
            "tags": []
          },
          "execution_count": 18
        },
        {
          "output_type": "display_data",
          "data": {
            "image/png": "[encoded data removed]",
            "text/plain": [
              "<Figure size 432x288 with 1 Axes>"
            ]
          },
          "metadata": {
            "tags": [],
            "needs_background": "light"
          }
        }
      ]
    },
    {
      "cell_type": "code",
      "metadata": {
        "colab": {
          "base_uri": "https://localhost:8080/",
          "height": 298
        },
        "id": "BMSicdzdKkCb",
        "outputId": "9d0fe353-f9f2-42cc-cae9-91c196107b06"
      },
      "source": [
        "sns.countplot(x='Married',hue='Loan_Status',data=data)"
      ],
      "execution_count": 19,
      "outputs": [
        {
          "output_type": "execute_result",
          "data": {
            "text/plain": [
              "<matplotlib.axes._subplots.AxesSubplot at 0x7f413f09b080>"
            ]
          },
          "metadata": {
            "tags": []
          },
          "execution_count": 19
        },
        {
          "output_type": "display_data",
          "data": {
            "image/png": "[encoded data removed]",
            "text/plain": [
              "<Figure size 432x288 with 1 Axes>"
            ]
          },
          "metadata": {
            "tags": [],
            "needs_background": "light"
          }
        }
      ]
    },
    {
      "cell_type": "code",
      "metadata": {
        "colab": {
          "base_uri": "https://localhost:8080/",
          "height": 296
        },
        "id": "wBFciWcSKj_e",
        "outputId": "faf7d4db-2afe-4645-8350-67c36475a526"
      },
      "source": [
        "sns.countplot(x='Education',hue='Loan_Status',data=data)"
      ],
      "execution_count": 20,
      "outputs": [
        {
          "output_type": "execute_result",
          "data": {
            "text/plain": [
              "<matplotlib.axes._subplots.AxesSubplot at 0x7f413e9266d8>"
            ]
          },
          "metadata": {
            "tags": []
          },
          "execution_count": 20
        },
        {
          "output_type": "display_data",
          "data": {
            "image/png": "[encoded data removed]",
            "text/plain": [
              "<Figure size 432x288 with 1 Axes>"
            ]
          },
          "metadata": {
            "tags": [],
            "needs_background": "light"
          }
        }
      ]
    },
    {
      "cell_type": "markdown",
      "metadata": {
        "id": "Jb6wkIIW9J4z"
      },
      "source": [
        "Converting Categorical Values into numerical values"
      ]
    },
    {
      "cell_type": "code",
      "metadata": {
        "id": "d25kjh5SGnK6"
      },
      "source": [
        "cat_feat=[x for x in data.columns if data[x].dtype=='object']\r\n",
        "cat_feat_test=[x for x in test_data.columns if data[x].dtype=='object']\r\n",
        "\r\n",
        "#Training data\r\n",
        "from sklearn.preprocessing import LabelEncoder\r\n",
        "for i in cat_feat:\r\n",
        "  le=LabelEncoder()\r\n",
        "  data[i]=le.fit_transform(data[i].astype(str))\r\n",
        "\r\n",
        "#test data\r\n",
        "for i in cat_feat_test:\r\n",
        "  le=LabelEncoder()\r\n",
        "  test_data[i]=le.fit_transform(test_data[i].astype(str))"
      ],
      "execution_count": 21,
      "outputs": []
    },
    {
      "cell_type": "code",
      "metadata": {
        "colab": {
          "base_uri": "https://localhost:8080/",
          "height": 35
        },
        "id": "kOtiY0kdAQe7",
        "outputId": "462e52e1-aab4-438e-9e7a-ae28bd27b1e5"
      },
      "source": [
        "'''test_data['Gender']=test_data['Gender'].map({'Female':1,'Male':0})'''"
      ],
      "execution_count": 22,
      "outputs": [
        {
          "output_type": "execute_result",
          "data": {
            "application/vnd.google.colaboratory.intrinsic+json": {
              "type": "string"
            },
            "text/plain": [
              "\"test_data['Gender']=test_data['Gender'].map({'Female':1,'Male':0})\""
            ]
          },
          "metadata": {
            "tags": []
          },
          "execution_count": 22
        }
      ]
    },
    {
      "cell_type": "code",
      "metadata": {
        "colab": {
          "base_uri": "https://localhost:8080/",
          "height": 162
        },
        "id": "TWTYapPcBTk6",
        "outputId": "ca80f1ae-f115-4c14-fbcb-3dc90db931cd"
      },
      "source": [
        "data.head(3)"
      ],
      "execution_count": 23,
      "outputs": [
        {
          "output_type": "execute_result",
          "data": {
            "text/html": [
              "<div>\n",
              "<style scoped>\n",
              "    .dataframe tbody tr th:only-of-type {\n",
              "        vertical-align: middle;\n",
              "    }\n",
              "\n",
              "    .dataframe tbody tr th {\n",
              "        vertical-align: top;\n",
              "    }\n",
              "\n",
              "    .dataframe thead th {\n",
              "        text-align: right;\n",
              "    }\n",
              "</style>\n",
              "<table border=\"1\" class=\"dataframe\">\n",
              "  <thead>\n",
              "    <tr style=\"text-align: right;\">\n",
              "      <th></th>\n",
              "      <th>Gender</th>\n",
              "      <th>Married</th>\n",
              "      <th>Dependents</th>\n",
              "      <th>Education</th>\n",
              "      <th>Self_Employed</th>\n",
              "      <th>ApplicantIncome</th>\n",
              "      <th>CoapplicantIncome</th>\n",
              "      <th>LoanAmount</th>\n",
              "      <th>Loan_Amount_Term</th>\n",
              "      <th>Credit_History</th>\n",
              "      <th>Property_Area</th>\n",
              "      <th>Loan_Status</th>\n",
              "    </tr>\n",
              "  </thead>\n",
              "  <tbody>\n",
              "    <tr>\n",
              "      <th>0</th>\n",
              "      <td>0</td>\n",
              "      <td>0</td>\n",
              "      <td>0</td>\n",
              "      <td>0</td>\n",
              "      <td>0</td>\n",
              "      <td>4547</td>\n",
              "      <td>0.0</td>\n",
              "      <td>115.0</td>\n",
              "      <td>360.0</td>\n",
              "      <td>1.0</td>\n",
              "      <td>1</td>\n",
              "      <td>1</td>\n",
              "    </tr>\n",
              "    <tr>\n",
              "      <th>1</th>\n",
              "      <td>1</td>\n",
              "      <td>1</td>\n",
              "      <td>3</td>\n",
              "      <td>1</td>\n",
              "      <td>1</td>\n",
              "      <td>5703</td>\n",
              "      <td>0.0</td>\n",
              "      <td>130.0</td>\n",
              "      <td>360.0</td>\n",
              "      <td>1.0</td>\n",
              "      <td>0</td>\n",
              "      <td>1</td>\n",
              "    </tr>\n",
              "    <tr>\n",
              "      <th>2</th>\n",
              "      <td>0</td>\n",
              "      <td>1</td>\n",
              "      <td>0</td>\n",
              "      <td>0</td>\n",
              "      <td>0</td>\n",
              "      <td>4333</td>\n",
              "      <td>2451.0</td>\n",
              "      <td>110.0</td>\n",
              "      <td>360.0</td>\n",
              "      <td>1.0</td>\n",
              "      <td>2</td>\n",
              "      <td>0</td>\n",
              "    </tr>\n",
              "  </tbody>\n",
              "</table>\n",
              "</div>"
            ],
            "text/plain": [
              "   Gender  Married  Dependents  ...  Credit_History  Property_Area  Loan_Status\n",
              "0       0        0           0  ...             1.0              1            1\n",
              "1       1        1           3  ...             1.0              0            1\n",
              "2       0        1           0  ...             1.0              2            0\n",
              "\n",
              "[3 rows x 12 columns]"
            ]
          },
          "metadata": {
            "tags": []
          },
          "execution_count": 23
        }
      ]
    },
    {
      "cell_type": "code",
      "metadata": {
        "colab": {
          "base_uri": "https://localhost:8080/"
        },
        "id": "zK3pGmw3C8BH",
        "outputId": "ceae1dd6-2090-4f87-c566-eedd0de41d93"
      },
      "source": [
        "print(data['Gender'].unique())\r\n",
        "print(data['Married'].unique())\r\n",
        "print(data['Dependents'].unique())\r\n"
      ],
      "execution_count": 24,
      "outputs": [
        {
          "output_type": "stream",
          "text": [
            "[0 1]\n",
            "[0 1]\n",
            "[0 3 2 1]\n"
          ],
          "name": "stdout"
        }
      ]
    },
    {
      "cell_type": "code",
      "metadata": {
        "colab": {
          "base_uri": "https://localhost:8080/",
          "height": 35
        },
        "id": "yf87l4hmMa7_",
        "outputId": "7190b313-2bb5-45d7-b99d-766927acb97f"
      },
      "source": [
        "'''data['Dependents'].replace(['3+'],value=['3'],inplace=True)\r\n",
        "test_data['Dependents'].replace(['3+'],value=['3'],inplace=True)'''"
      ],
      "execution_count": 25,
      "outputs": [
        {
          "output_type": "execute_result",
          "data": {
            "application/vnd.google.colaboratory.intrinsic+json": {
              "type": "string"
            },
            "text/plain": [
              "\"data['Dependents'].replace(['3+'],value=['3'],inplace=True)\\ntest_data['Dependents'].replace(['3+'],value=['3'],inplace=True)\""
            ]
          },
          "metadata": {
            "tags": []
          },
          "execution_count": 25
        }
      ]
    },
    {
      "cell_type": "code",
      "metadata": {
        "id": "OrUxUDZHPAeF"
      },
      "source": [
        "X=data.drop('Loan_Status',axis=1)\r\n",
        "y=data['Loan_Status']"
      ],
      "execution_count": 26,
      "outputs": []
    },
    {
      "cell_type": "markdown",
      "metadata": {
        "id": "GaOLkNY2LTn7"
      },
      "source": [
        "Feature Selection"
      ]
    },
    {
      "cell_type": "markdown",
      "metadata": {
        "id": "mvOM0eCVLRCI"
      },
      "source": [
        "Univariate Selction"
      ]
    },
    {
      "cell_type": "code",
      "metadata": {
        "colab": {
          "base_uri": "https://localhost:8080/",
          "height": 359
        },
        "id": "e2Ktl-ITLOlF",
        "outputId": "b2dcadba-4507-450a-98dd-efaa3e12dce9"
      },
      "source": [
        "from sklearn.feature_selection import SelectKBest\r\n",
        "from sklearn.feature_selection import chi2\r\n",
        "\r\n",
        "best_features =SelectKBest(chi2,k=10)\r\n",
        "fit=best_features.fit(X,y)\r\n",
        "\r\n",
        "df_scores=pd.DataFrame(fit.scores_)\r\n",
        "df_columns=pd.DataFrame(X.columns)\r\n",
        "\r\n",
        "featurescore=pd.concat([df_columns,df_scores],axis=1)\r\n",
        "featurescore.columns=['Featcolumn','Scores']\r\n",
        "\r\n",
        "featurescore.nlargest(10,'Scores')"
      ],
      "execution_count": 27,
      "outputs": [
        {
          "output_type": "execute_result",
          "data": {
            "text/html": [
              "<div>\n",
              "<style scoped>\n",
              "    .dataframe tbody tr th:only-of-type {\n",
              "        vertical-align: middle;\n",
              "    }\n",
              "\n",
              "    .dataframe tbody tr th {\n",
              "        vertical-align: top;\n",
              "    }\n",
              "\n",
              "    .dataframe thead th {\n",
              "        text-align: right;\n",
              "    }\n",
              "</style>\n",
              "<table border=\"1\" class=\"dataframe\">\n",
              "  <thead>\n",
              "    <tr style=\"text-align: right;\">\n",
              "      <th></th>\n",
              "      <th>Featcolumn</th>\n",
              "      <th>Scores</th>\n",
              "    </tr>\n",
              "  </thead>\n",
              "  <tbody>\n",
              "    <tr>\n",
              "      <th>6</th>\n",
              "      <td>CoapplicantIncome</td>\n",
              "      <td>7728.101733</td>\n",
              "    </tr>\n",
              "    <tr>\n",
              "      <th>9</th>\n",
              "      <td>Credit_History</td>\n",
              "      <td>19.338684</td>\n",
              "    </tr>\n",
              "    <tr>\n",
              "      <th>7</th>\n",
              "      <td>LoanAmount</td>\n",
              "      <td>8.803296</td>\n",
              "    </tr>\n",
              "    <tr>\n",
              "      <th>1</th>\n",
              "      <td>Married</td>\n",
              "      <td>2.849065</td>\n",
              "    </tr>\n",
              "    <tr>\n",
              "      <th>3</th>\n",
              "      <td>Education</td>\n",
              "      <td>2.229123</td>\n",
              "    </tr>\n",
              "    <tr>\n",
              "      <th>10</th>\n",
              "      <td>Property_Area</td>\n",
              "      <td>0.865415</td>\n",
              "    </tr>\n",
              "    <tr>\n",
              "      <th>0</th>\n",
              "      <td>Gender</td>\n",
              "      <td>0.408309</td>\n",
              "    </tr>\n",
              "    <tr>\n",
              "      <th>5</th>\n",
              "      <td>ApplicantIncome</td>\n",
              "      <td>0.365911</td>\n",
              "    </tr>\n",
              "    <tr>\n",
              "      <th>8</th>\n",
              "      <td>Loan_Amount_Term</td>\n",
              "      <td>0.233031</td>\n",
              "    </tr>\n",
              "    <tr>\n",
              "      <th>2</th>\n",
              "      <td>Dependents</td>\n",
              "      <td>0.169558</td>\n",
              "    </tr>\n",
              "  </tbody>\n",
              "</table>\n",
              "</div>"
            ],
            "text/plain": [
              "           Featcolumn       Scores\n",
              "6   CoapplicantIncome  7728.101733\n",
              "9      Credit_History    19.338684\n",
              "7          LoanAmount     8.803296\n",
              "1             Married     2.849065\n",
              "3           Education     2.229123\n",
              "10      Property_Area     0.865415\n",
              "0              Gender     0.408309\n",
              "5     ApplicantIncome     0.365911\n",
              "8    Loan_Amount_Term     0.233031\n",
              "2          Dependents     0.169558"
            ]
          },
          "metadata": {
            "tags": []
          },
          "execution_count": 27
        }
      ]
    },
    {
      "cell_type": "code",
      "metadata": {
        "colab": {
          "base_uri": "https://localhost:8080/"
        },
        "id": "h8pCwbiyPfsR",
        "outputId": "cfea39e1-9443-44b5-d601-d194a443a245"
      },
      "source": [
        "data.columns"
      ],
      "execution_count": 28,
      "outputs": [
        {
          "output_type": "execute_result",
          "data": {
            "text/plain": [
              "Index(['Gender', 'Married', 'Dependents', 'Education', 'Self_Employed',\n",
              "       'ApplicantIncome', 'CoapplicantIncome', 'LoanAmount',\n",
              "       'Loan_Amount_Term', 'Credit_History', 'Property_Area', 'Loan_Status'],\n",
              "      dtype='object')"
            ]
          },
          "metadata": {
            "tags": []
          },
          "execution_count": 28
        }
      ]
    },
    {
      "cell_type": "markdown",
      "metadata": {
        "id": "T4Afn8cbErg9"
      },
      "source": [
        "Training Data "
      ]
    },
    {
      "cell_type": "code",
      "metadata": {
        "id": "_JtVEWS8LOg7"
      },
      "source": [
        "X=data.iloc[:,[0,1,3,5,6,7,8,9,10]]"
      ],
      "execution_count": 29,
      "outputs": []
    },
    {
      "cell_type": "markdown",
      "metadata": {
        "id": "hdwTu69QEuqf"
      },
      "source": [
        "Test data"
      ]
    },
    {
      "cell_type": "code",
      "metadata": {
        "id": "4OCEwpvvEuRS"
      },
      "source": [
        "x_test=test_data.iloc[:,[0,1,3,5,6,7,8,9,10]]"
      ],
      "execution_count": 30,
      "outputs": []
    },
    {
      "cell_type": "markdown",
      "metadata": {
        "id": "joklCYYGLWHU"
      },
      "source": [
        "standardization"
      ]
    },
    {
      "cell_type": "code",
      "metadata": {
        "id": "gVyzdRQ2_92g"
      },
      "source": [
        "from sklearn.preprocessing import StandardScaler\r\n",
        "sc=StandardScaler()\r\n",
        "X=sc.fit_transform(X)"
      ],
      "execution_count": 31,
      "outputs": []
    },
    {
      "cell_type": "markdown",
      "metadata": {
        "id": "Yjlsn5MXLkiU"
      },
      "source": [
        "Select the Best Algorithm"
      ]
    },
    {
      "cell_type": "code",
      "metadata": {
        "id": "ql-k70YLLOeX"
      },
      "source": [
        "from sklearn.linear_model import LogisticRegression \r\n",
        "from sklearn.neighbors import KNeighborsClassifier\r\n",
        "from sklearn.svm import SVC\r\n",
        "from sklearn.tree import DecisionTreeClassifier\r\n",
        "from sklearn.ensemble import RandomForestClassifier,ExtraTreesClassifier"
      ],
      "execution_count": 32,
      "outputs": []
    },
    {
      "cell_type": "code",
      "metadata": {
        "id": "gebC83nyQ7BG"
      },
      "source": [
        "from sklearn.model_selection import train_test_split,cross_val_score\r\n",
        "from sklearn.metrics import confusion_matrix,classification_report,f1_score"
      ],
      "execution_count": 33,
      "outputs": []
    },
    {
      "cell_type": "code",
      "metadata": {
        "id": "sge7PLgDXrmS"
      },
      "source": [
        "from sklearn.model_selection import train_test_split\r\n",
        "\r\n",
        "X_train, X_test, y_train, y_test = train_test_split(X, y, test_size=0.3)"
      ],
      "execution_count": 34,
      "outputs": []
    },
    {
      "cell_type": "code",
      "metadata": {
        "id": "tTDdlmX3Q62S"
      },
      "source": [
        "models={'Logistic':LogisticRegression(),\r\n",
        "         'SVM':SVC(),\r\n",
        "         'DecisionTree':DecisionTreeClassifier(),\r\n",
        "         'RandomForest':RandomForestClassifier(),\r\n",
        "         'KNN':KNeighborsClassifier()}\r\n",
        "\r\n",
        "         \r\n",
        "def fit_score(model,X_train,y_train,X_test,y_test,X,y):\r\n",
        "  np.random.seed(45)\r\n",
        "  model_score={}\r\n",
        "  for name,model in models.items():\r\n",
        "    model.fit(X_train,y_train)\r\n",
        "    model_score[name]={'Accuracy':model.score(X_test,y_test),\r\n",
        "                       'Cross_val':np.mean(cross_val_score(model,X,y,cv=5,scoring=\"accuracy\"))}\r\n",
        "  return model_score"
      ],
      "execution_count": 35,
      "outputs": []
    },
    {
      "cell_type": "code",
      "metadata": {
        "colab": {
          "base_uri": "https://localhost:8080/",
          "height": 204
        },
        "id": "y1ZaVJkhLOXN",
        "outputId": "ba7abba3-22e3-4188-d861-6a370eceb90d"
      },
      "source": [
        "Scores=fit_score(model=models,X_train=X_train, X_test=X_test, y_train=y_train, y_test=y_test, X=X,y=y)\r\n",
        "pd.DataFrame(Scores.values(),Scores.keys())"
      ],
      "execution_count": 36,
      "outputs": [
        {
          "output_type": "execute_result",
          "data": {
            "text/html": [
              "<div>\n",
              "<style scoped>\n",
              "    .dataframe tbody tr th:only-of-type {\n",
              "        vertical-align: middle;\n",
              "    }\n",
              "\n",
              "    .dataframe tbody tr th {\n",
              "        vertical-align: top;\n",
              "    }\n",
              "\n",
              "    .dataframe thead th {\n",
              "        text-align: right;\n",
              "    }\n",
              "</style>\n",
              "<table border=\"1\" class=\"dataframe\">\n",
              "  <thead>\n",
              "    <tr style=\"text-align: right;\">\n",
              "      <th></th>\n",
              "      <th>Accuracy</th>\n",
              "      <th>Cross_val</th>\n",
              "    </tr>\n",
              "  </thead>\n",
              "  <tbody>\n",
              "    <tr>\n",
              "      <th>Logistic</th>\n",
              "      <td>0.837838</td>\n",
              "      <td>0.814636</td>\n",
              "    </tr>\n",
              "    <tr>\n",
              "      <th>SVM</th>\n",
              "      <td>0.831081</td>\n",
              "      <td>0.812595</td>\n",
              "    </tr>\n",
              "    <tr>\n",
              "      <th>DecisionTree</th>\n",
              "      <td>0.695946</td>\n",
              "      <td>0.714822</td>\n",
              "    </tr>\n",
              "    <tr>\n",
              "      <th>RandomForest</th>\n",
              "      <td>0.817568</td>\n",
              "      <td>0.792208</td>\n",
              "    </tr>\n",
              "    <tr>\n",
              "      <th>KNN</th>\n",
              "      <td>0.817568</td>\n",
              "      <td>0.786147</td>\n",
              "    </tr>\n",
              "  </tbody>\n",
              "</table>\n",
              "</div>"
            ],
            "text/plain": [
              "              Accuracy  Cross_val\n",
              "Logistic      0.837838   0.814636\n",
              "SVM           0.831081   0.812595\n",
              "DecisionTree  0.695946   0.714822\n",
              "RandomForest  0.817568   0.792208\n",
              "KNN           0.817568   0.786147"
            ]
          },
          "metadata": {
            "tags": []
          },
          "execution_count": 36
        }
      ]
    },
    {
      "cell_type": "markdown",
      "metadata": {
        "id": "-61UiRR6D-KP"
      },
      "source": [
        "Logistic Regression"
      ]
    },
    {
      "cell_type": "code",
      "metadata": {
        "colab": {
          "base_uri": "https://localhost:8080/"
        },
        "id": "DHzl_jwVDGC1",
        "outputId": "2404d236-eb93-4f01-cdec-46bd14cbbe17"
      },
      "source": [
        "model=LogisticRegression()\r\n",
        "model.fit(X,y)"
      ],
      "execution_count": 37,
      "outputs": [
        {
          "output_type": "execute_result",
          "data": {
            "text/plain": [
              "LogisticRegression(C=1.0, class_weight=None, dual=False, fit_intercept=True,\n",
              "                   intercept_scaling=1, l1_ratio=None, max_iter=100,\n",
              "                   multi_class='auto', n_jobs=None, penalty='l2',\n",
              "                   random_state=None, solver='lbfgs', tol=0.0001, verbose=0,\n",
              "                   warm_start=False)"
            ]
          },
          "metadata": {
            "tags": []
          },
          "execution_count": 37
        }
      ]
    },
    {
      "cell_type": "code",
      "metadata": {
        "id": "_jv6sMGgDQAG"
      },
      "source": [
        "y_pred=model.predict(x_test)"
      ],
      "execution_count": 38,
      "outputs": []
    },
    {
      "cell_type": "code",
      "metadata": {
        "colab": {
          "base_uri": "https://localhost:8080/"
        },
        "id": "g5_Bnfv3EfP4",
        "outputId": "50d184a3-987f-4702-8bda-19d2faa1a683"
      },
      "source": [
        "y_pred"
      ],
      "execution_count": 39,
      "outputs": [
        {
          "output_type": "execute_result",
          "data": {
            "text/plain": [
              "array([1, 0, 0, 1, 1, 0, 0, 0, 1, 1, 1, 1, 1, 0, 0, 0, 1, 1, 1, 0, 1, 1,\n",
              "       0, 1, 1, 0, 1, 1, 0, 1, 0, 0, 1, 1, 0, 1, 0, 1, 0, 1, 1, 1, 1, 1,\n",
              "       0, 0, 1, 1, 1, 0, 0, 1, 1, 0, 1, 1, 1, 0, 1, 1, 1, 1, 1, 1, 1, 1,\n",
              "       1, 1, 1, 1, 1, 0, 0, 0, 0, 0, 1, 1, 1, 0, 0, 0, 0, 1, 0, 0, 1, 1,\n",
              "       1, 1, 0, 0, 1, 1, 1, 0, 1, 0, 0, 0, 0, 1, 0, 0, 1, 0, 1, 1, 0, 1,\n",
              "       1, 0, 0, 1, 1, 0, 0, 1, 1, 1, 1, 1, 1])"
            ]
          },
          "metadata": {
            "tags": []
          },
          "execution_count": 39
        }
      ]
    },
    {
      "cell_type": "code",
      "metadata": {
        "id": "Su1wJ5bdFKGr"
      },
      "source": [
        "import pickle\r\n",
        "pickle.dump(model,open('loan.pkl','wb'))"
      ],
      "execution_count": 40,
      "outputs": []
    }
  ]
}

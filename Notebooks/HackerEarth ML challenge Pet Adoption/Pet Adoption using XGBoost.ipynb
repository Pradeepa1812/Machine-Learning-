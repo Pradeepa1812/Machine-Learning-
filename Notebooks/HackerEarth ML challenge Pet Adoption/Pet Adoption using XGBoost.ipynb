{
 "cells": [
  {
   "cell_type": "markdown",
   "metadata": {},
   "source": [
    "# Pet Adoption HackerEarth challenge"
   ]
  },
  {
   "cell_type": "markdown",
   "metadata": {},
   "source": [
    "### Required Libraries"
   ]
  },
  {
   "cell_type": "code",
   "execution_count": 1,
   "metadata": {},
   "outputs": [],
   "source": [
    "import numpy as np\n",
    "import pandas as pd\n",
    "import matplotlib.pyplot as plt\n",
    "import seaborn as sns"
   ]
  },
  {
   "cell_type": "markdown",
   "metadata": {},
   "source": [
    "### Pre-Processing"
   ]
  },
  {
   "cell_type": "markdown",
   "metadata": {},
   "source": [
    "###### Training dataset"
   ]
  },
  {
   "cell_type": "code",
   "execution_count": 2,
   "metadata": {},
   "outputs": [
    {
     "data": {
      "text/html": [
       "<div>\n",
       "<style scoped>\n",
       "    .dataframe tbody tr th:only-of-type {\n",
       "        vertical-align: middle;\n",
       "    }\n",
       "\n",
       "    .dataframe tbody tr th {\n",
       "        vertical-align: top;\n",
       "    }\n",
       "\n",
       "    .dataframe thead th {\n",
       "        text-align: right;\n",
       "    }\n",
       "</style>\n",
       "<table border=\"1\" class=\"dataframe\">\n",
       "  <thead>\n",
       "    <tr style=\"text-align: right;\">\n",
       "      <th></th>\n",
       "      <th>pet_id</th>\n",
       "      <th>issue_date</th>\n",
       "      <th>listing_date</th>\n",
       "      <th>condition</th>\n",
       "      <th>color_type</th>\n",
       "      <th>length(m)</th>\n",
       "      <th>height(cm)</th>\n",
       "      <th>X1</th>\n",
       "      <th>X2</th>\n",
       "      <th>breed_category</th>\n",
       "      <th>pet_category</th>\n",
       "    </tr>\n",
       "  </thead>\n",
       "  <tbody>\n",
       "    <tr>\n",
       "      <th>0</th>\n",
       "      <td>ANSL_69903</td>\n",
       "      <td>7/10/2016 0:00</td>\n",
       "      <td>9/21/2016 16:25</td>\n",
       "      <td>2.0</td>\n",
       "      <td>Brown Tabby</td>\n",
       "      <td>0.80</td>\n",
       "      <td>7.78</td>\n",
       "      <td>13</td>\n",
       "      <td>9</td>\n",
       "      <td>0</td>\n",
       "      <td>1</td>\n",
       "    </tr>\n",
       "    <tr>\n",
       "      <th>1</th>\n",
       "      <td>ANSL_66892</td>\n",
       "      <td>11/21/2013 0:00</td>\n",
       "      <td>12/27/2018 17:47</td>\n",
       "      <td>1.0</td>\n",
       "      <td>White</td>\n",
       "      <td>0.72</td>\n",
       "      <td>14.19</td>\n",
       "      <td>13</td>\n",
       "      <td>9</td>\n",
       "      <td>0</td>\n",
       "      <td>2</td>\n",
       "    </tr>\n",
       "    <tr>\n",
       "      <th>2</th>\n",
       "      <td>ANSL_69750</td>\n",
       "      <td>9/28/2014 0:00</td>\n",
       "      <td>10/19/2016 8:24</td>\n",
       "      <td>NaN</td>\n",
       "      <td>Brown</td>\n",
       "      <td>0.15</td>\n",
       "      <td>40.90</td>\n",
       "      <td>15</td>\n",
       "      <td>4</td>\n",
       "      <td>2</td>\n",
       "      <td>4</td>\n",
       "    </tr>\n",
       "    <tr>\n",
       "      <th>3</th>\n",
       "      <td>ANSL_71623</td>\n",
       "      <td>12/31/2016 0:00</td>\n",
       "      <td>1/25/2019 18:30</td>\n",
       "      <td>1.0</td>\n",
       "      <td>White</td>\n",
       "      <td>0.62</td>\n",
       "      <td>17.82</td>\n",
       "      <td>0</td>\n",
       "      <td>1</td>\n",
       "      <td>0</td>\n",
       "      <td>2</td>\n",
       "    </tr>\n",
       "    <tr>\n",
       "      <th>4</th>\n",
       "      <td>ANSL_57969</td>\n",
       "      <td>9/28/2017 0:00</td>\n",
       "      <td>11/19/2017 9:38</td>\n",
       "      <td>2.0</td>\n",
       "      <td>Black</td>\n",
       "      <td>0.50</td>\n",
       "      <td>11.06</td>\n",
       "      <td>18</td>\n",
       "      <td>4</td>\n",
       "      <td>0</td>\n",
       "      <td>1</td>\n",
       "    </tr>\n",
       "  </tbody>\n",
       "</table>\n",
       "</div>"
      ],
      "text/plain": [
       "       pet_id       issue_date      listing_date  condition   color_type  \\\n",
       "0  ANSL_69903   7/10/2016 0:00   9/21/2016 16:25        2.0  Brown Tabby   \n",
       "1  ANSL_66892  11/21/2013 0:00  12/27/2018 17:47        1.0        White   \n",
       "2  ANSL_69750   9/28/2014 0:00   10/19/2016 8:24        NaN        Brown   \n",
       "3  ANSL_71623  12/31/2016 0:00   1/25/2019 18:30        1.0        White   \n",
       "4  ANSL_57969   9/28/2017 0:00   11/19/2017 9:38        2.0        Black   \n",
       "\n",
       "   length(m)  height(cm)  X1  X2  breed_category  pet_category  \n",
       "0       0.80        7.78  13   9               0             1  \n",
       "1       0.72       14.19  13   9               0             2  \n",
       "2       0.15       40.90  15   4               2             4  \n",
       "3       0.62       17.82   0   1               0             2  \n",
       "4       0.50       11.06  18   4               0             1  "
      ]
     },
     "execution_count": 2,
     "metadata": {},
     "output_type": "execute_result"
    }
   ],
   "source": [
    "#Read the train dataset using pandas \n",
    "data=pd.read_csv(r'C:\\Users\\Pradeepa\\Desktop\\HackerEarth problem statement\\Dataset\\train.csv')\n",
    "#first 5 rows of the dataset\n",
    "data.head()"
   ]
  },
  {
   "cell_type": "code",
   "execution_count": 3,
   "metadata": {},
   "outputs": [
    {
     "data": {
      "text/html": [
       "<div>\n",
       "<style scoped>\n",
       "    .dataframe tbody tr th:only-of-type {\n",
       "        vertical-align: middle;\n",
       "    }\n",
       "\n",
       "    .dataframe tbody tr th {\n",
       "        vertical-align: top;\n",
       "    }\n",
       "\n",
       "    .dataframe thead th {\n",
       "        text-align: right;\n",
       "    }\n",
       "</style>\n",
       "<table border=\"1\" class=\"dataframe\">\n",
       "  <thead>\n",
       "    <tr style=\"text-align: right;\">\n",
       "      <th></th>\n",
       "      <th>pet_id</th>\n",
       "      <th>issue_date</th>\n",
       "      <th>listing_date</th>\n",
       "      <th>condition</th>\n",
       "      <th>color_type</th>\n",
       "      <th>length(m)</th>\n",
       "      <th>height(cm)</th>\n",
       "      <th>X1</th>\n",
       "      <th>X2</th>\n",
       "      <th>breed_category</th>\n",
       "      <th>pet_category</th>\n",
       "    </tr>\n",
       "  </thead>\n",
       "  <tbody>\n",
       "    <tr>\n",
       "      <th>18829</th>\n",
       "      <td>ANSL_51738</td>\n",
       "      <td>1/26/2017 0:00</td>\n",
       "      <td>3/9/2018 15:35</td>\n",
       "      <td>2.0</td>\n",
       "      <td>Tricolor</td>\n",
       "      <td>0.44</td>\n",
       "      <td>27.36</td>\n",
       "      <td>0</td>\n",
       "      <td>1</td>\n",
       "      <td>0</td>\n",
       "      <td>2</td>\n",
       "    </tr>\n",
       "    <tr>\n",
       "      <th>18830</th>\n",
       "      <td>ANSL_59900</td>\n",
       "      <td>6/18/2016 0:00</td>\n",
       "      <td>7/9/2017 8:37</td>\n",
       "      <td>NaN</td>\n",
       "      <td>Brown</td>\n",
       "      <td>0.73</td>\n",
       "      <td>14.25</td>\n",
       "      <td>15</td>\n",
       "      <td>4</td>\n",
       "      <td>2</td>\n",
       "      <td>4</td>\n",
       "    </tr>\n",
       "    <tr>\n",
       "      <th>18831</th>\n",
       "      <td>ANSL_53210</td>\n",
       "      <td>7/21/2010 0:00</td>\n",
       "      <td>8/22/2018 14:27</td>\n",
       "      <td>0.0</td>\n",
       "      <td>Calico Point</td>\n",
       "      <td>0.99</td>\n",
       "      <td>28.13</td>\n",
       "      <td>13</td>\n",
       "      <td>9</td>\n",
       "      <td>1</td>\n",
       "      <td>1</td>\n",
       "    </tr>\n",
       "    <tr>\n",
       "      <th>18832</th>\n",
       "      <td>ANSL_63468</td>\n",
       "      <td>5/12/2017 0:00</td>\n",
       "      <td>2/8/2018 14:05</td>\n",
       "      <td>0.0</td>\n",
       "      <td>Tan</td>\n",
       "      <td>0.55</td>\n",
       "      <td>44.82</td>\n",
       "      <td>13</td>\n",
       "      <td>9</td>\n",
       "      <td>1</td>\n",
       "      <td>2</td>\n",
       "    </tr>\n",
       "    <tr>\n",
       "      <th>18833</th>\n",
       "      <td>ANSL_73558</td>\n",
       "      <td>12/13/2011 0:00</td>\n",
       "      <td>10/26/2018 14:18</td>\n",
       "      <td>0.0</td>\n",
       "      <td>Brown</td>\n",
       "      <td>0.86</td>\n",
       "      <td>37.40</td>\n",
       "      <td>0</td>\n",
       "      <td>1</td>\n",
       "      <td>1</td>\n",
       "      <td>2</td>\n",
       "    </tr>\n",
       "  </tbody>\n",
       "</table>\n",
       "</div>"
      ],
      "text/plain": [
       "           pet_id       issue_date      listing_date  condition    color_type  \\\n",
       "18829  ANSL_51738   1/26/2017 0:00    3/9/2018 15:35        2.0      Tricolor   \n",
       "18830  ANSL_59900   6/18/2016 0:00     7/9/2017 8:37        NaN         Brown   \n",
       "18831  ANSL_53210   7/21/2010 0:00   8/22/2018 14:27        0.0  Calico Point   \n",
       "18832  ANSL_63468   5/12/2017 0:00    2/8/2018 14:05        0.0           Tan   \n",
       "18833  ANSL_73558  12/13/2011 0:00  10/26/2018 14:18        0.0         Brown   \n",
       "\n",
       "       length(m)  height(cm)  X1  X2  breed_category  pet_category  \n",
       "18829       0.44       27.36   0   1               0             2  \n",
       "18830       0.73       14.25  15   4               2             4  \n",
       "18831       0.99       28.13  13   9               1             1  \n",
       "18832       0.55       44.82  13   9               1             2  \n",
       "18833       0.86       37.40   0   1               1             2  "
      ]
     },
     "execution_count": 3,
     "metadata": {},
     "output_type": "execute_result"
    }
   ],
   "source": [
    "#Last five rows of the dataset\n",
    "data.tail()"
   ]
  },
  {
   "cell_type": "code",
   "execution_count": 4,
   "metadata": {},
   "outputs": [
    {
     "name": "stdout",
     "output_type": "stream",
     "text": [
      "<class 'pandas.core.frame.DataFrame'>\n",
      "RangeIndex: 18834 entries, 0 to 18833\n",
      "Data columns (total 11 columns):\n",
      " #   Column          Non-Null Count  Dtype  \n",
      "---  ------          --------------  -----  \n",
      " 0   pet_id          18834 non-null  object \n",
      " 1   issue_date      18834 non-null  object \n",
      " 2   listing_date    18834 non-null  object \n",
      " 3   condition       17357 non-null  float64\n",
      " 4   color_type      18834 non-null  object \n",
      " 5   length(m)       18834 non-null  float64\n",
      " 6   height(cm)      18834 non-null  float64\n",
      " 7   X1              18834 non-null  int64  \n",
      " 8   X2              18834 non-null  int64  \n",
      " 9   breed_category  18834 non-null  int64  \n",
      " 10  pet_category    18834 non-null  int64  \n",
      "dtypes: float64(3), int64(4), object(4)\n",
      "memory usage: 1.6+ MB\n"
     ]
    }
   ],
   "source": [
    "#To get a quick  of the dataset\n",
    "data.info()"
   ]
  },
  {
   "cell_type": "code",
   "execution_count": 5,
   "metadata": {},
   "outputs": [
    {
     "data": {
      "text/plain": [
       "Index(['pet_id', 'issue_date', 'listing_date', 'condition', 'color_type',\n",
       "       'length(m)', 'height(cm)', 'X1', 'X2', 'breed_category',\n",
       "       'pet_category'],\n",
       "      dtype='object')"
      ]
     },
     "execution_count": 5,
     "metadata": {},
     "output_type": "execute_result"
    }
   ],
   "source": [
    "#columns in the particular dataset\n",
    "data.columns"
   ]
  },
  {
   "cell_type": "code",
   "execution_count": 6,
   "metadata": {},
   "outputs": [
    {
     "data": {
      "text/html": [
       "<div>\n",
       "<style scoped>\n",
       "    .dataframe tbody tr th:only-of-type {\n",
       "        vertical-align: middle;\n",
       "    }\n",
       "\n",
       "    .dataframe tbody tr th {\n",
       "        vertical-align: top;\n",
       "    }\n",
       "\n",
       "    .dataframe thead th {\n",
       "        text-align: right;\n",
       "    }\n",
       "</style>\n",
       "<table border=\"1\" class=\"dataframe\">\n",
       "  <thead>\n",
       "    <tr style=\"text-align: right;\">\n",
       "      <th></th>\n",
       "      <th>condition</th>\n",
       "      <th>length(m)</th>\n",
       "      <th>height(cm)</th>\n",
       "      <th>X1</th>\n",
       "      <th>X2</th>\n",
       "      <th>breed_category</th>\n",
       "      <th>pet_category</th>\n",
       "    </tr>\n",
       "  </thead>\n",
       "  <tbody>\n",
       "    <tr>\n",
       "      <th>count</th>\n",
       "      <td>17357.000000</td>\n",
       "      <td>18834.000000</td>\n",
       "      <td>18834.000000</td>\n",
       "      <td>18834.000000</td>\n",
       "      <td>18834.000000</td>\n",
       "      <td>18834.000000</td>\n",
       "      <td>18834.000000</td>\n",
       "    </tr>\n",
       "    <tr>\n",
       "      <th>mean</th>\n",
       "      <td>0.883390</td>\n",
       "      <td>0.502636</td>\n",
       "      <td>27.448832</td>\n",
       "      <td>5.369598</td>\n",
       "      <td>4.577307</td>\n",
       "      <td>0.600563</td>\n",
       "      <td>1.709143</td>\n",
       "    </tr>\n",
       "    <tr>\n",
       "      <th>std</th>\n",
       "      <td>0.770434</td>\n",
       "      <td>0.288705</td>\n",
       "      <td>13.019781</td>\n",
       "      <td>6.572366</td>\n",
       "      <td>3.517763</td>\n",
       "      <td>0.629883</td>\n",
       "      <td>0.717919</td>\n",
       "    </tr>\n",
       "    <tr>\n",
       "      <th>min</th>\n",
       "      <td>0.000000</td>\n",
       "      <td>0.000000</td>\n",
       "      <td>5.000000</td>\n",
       "      <td>0.000000</td>\n",
       "      <td>0.000000</td>\n",
       "      <td>0.000000</td>\n",
       "      <td>0.000000</td>\n",
       "    </tr>\n",
       "    <tr>\n",
       "      <th>25%</th>\n",
       "      <td>0.000000</td>\n",
       "      <td>0.250000</td>\n",
       "      <td>16.172500</td>\n",
       "      <td>0.000000</td>\n",
       "      <td>1.000000</td>\n",
       "      <td>0.000000</td>\n",
       "      <td>1.000000</td>\n",
       "    </tr>\n",
       "    <tr>\n",
       "      <th>50%</th>\n",
       "      <td>1.000000</td>\n",
       "      <td>0.500000</td>\n",
       "      <td>27.340000</td>\n",
       "      <td>0.000000</td>\n",
       "      <td>4.000000</td>\n",
       "      <td>1.000000</td>\n",
       "      <td>2.000000</td>\n",
       "    </tr>\n",
       "    <tr>\n",
       "      <th>75%</th>\n",
       "      <td>1.000000</td>\n",
       "      <td>0.760000</td>\n",
       "      <td>38.890000</td>\n",
       "      <td>13.000000</td>\n",
       "      <td>9.000000</td>\n",
       "      <td>1.000000</td>\n",
       "      <td>2.000000</td>\n",
       "    </tr>\n",
       "    <tr>\n",
       "      <th>max</th>\n",
       "      <td>2.000000</td>\n",
       "      <td>1.000000</td>\n",
       "      <td>50.000000</td>\n",
       "      <td>19.000000</td>\n",
       "      <td>9.000000</td>\n",
       "      <td>2.000000</td>\n",
       "      <td>4.000000</td>\n",
       "    </tr>\n",
       "  </tbody>\n",
       "</table>\n",
       "</div>"
      ],
      "text/plain": [
       "          condition     length(m)    height(cm)            X1            X2  \\\n",
       "count  17357.000000  18834.000000  18834.000000  18834.000000  18834.000000   \n",
       "mean       0.883390      0.502636     27.448832      5.369598      4.577307   \n",
       "std        0.770434      0.288705     13.019781      6.572366      3.517763   \n",
       "min        0.000000      0.000000      5.000000      0.000000      0.000000   \n",
       "25%        0.000000      0.250000     16.172500      0.000000      1.000000   \n",
       "50%        1.000000      0.500000     27.340000      0.000000      4.000000   \n",
       "75%        1.000000      0.760000     38.890000     13.000000      9.000000   \n",
       "max        2.000000      1.000000     50.000000     19.000000      9.000000   \n",
       "\n",
       "       breed_category  pet_category  \n",
       "count    18834.000000  18834.000000  \n",
       "mean         0.600563      1.709143  \n",
       "std          0.629883      0.717919  \n",
       "min          0.000000      0.000000  \n",
       "25%          0.000000      1.000000  \n",
       "50%          1.000000      2.000000  \n",
       "75%          1.000000      2.000000  \n",
       "max          2.000000      4.000000  "
      ]
     },
     "execution_count": 6,
     "metadata": {},
     "output_type": "execute_result"
    }
   ],
   "source": [
    "#computes a summary of statistics to the dataframe columns\n",
    "data.describe()"
   ]
  },
  {
   "cell_type": "code",
   "execution_count": 7,
   "metadata": {},
   "outputs": [],
   "source": [
    "#For visualization purpose i'm taking some columns \n",
    "x=data[['condition','length(m)','height(cm)','color_type','breed_category','pet_category']]"
   ]
  },
  {
   "cell_type": "code",
   "execution_count": 8,
   "metadata": {},
   "outputs": [
    {
     "name": "stderr",
     "output_type": "stream",
     "text": [
      "C:\\Users\\Pradeepa\\Anaconda3\\lib\\site-packages\\seaborn\\distributions.py:369: UserWarning: Default bandwidth for data is 0; skipping density estimation.\n",
      "  warnings.warn(msg, UserWarning)\n",
      "C:\\Users\\Pradeepa\\Anaconda3\\lib\\site-packages\\seaborn\\distributions.py:369: UserWarning: Default bandwidth for data is 0; skipping density estimation.\n",
      "  warnings.warn(msg, UserWarning)\n"
     ]
    },
    {
     "data": {
      "text/plain": [
       "<seaborn.axisgrid.PairGrid at 0x1dee4df6fc8>"
      ]
     },
     "execution_count": 8,
     "metadata": {},
     "output_type": "execute_result"
    },
    {
     "data": {
      "image/png": "[encoded data removed]",
      "text/plain": [
       "<Figure size 805.75x720 with 20 Axes>"
      ]
     },
     "metadata": {
      "needs_background": "light"
     },
     "output_type": "display_data"
    }
   ],
   "source": [
    "#plot pairwise relationship in a dataset\n",
    "sns.pairplot(x,hue='breed_category',palette='plasma')"
   ]
  },
  {
   "cell_type": "code",
   "execution_count": 9,
   "metadata": {},
   "outputs": [
    {
     "data": {
      "text/plain": [
       "<AxesSubplot:>"
      ]
     },
     "execution_count": 9,
     "metadata": {},
     "output_type": "execute_result"
    },
    {
     "data": {
      "image/png": "[encoded data removed]",
      "text/plain": [
       "<Figure size 432x288 with 2 Axes>"
      ]
     },
     "metadata": {
      "needs_background": "light"
     },
     "output_type": "display_data"
    }
   ],
   "source": [
    "#It is a 2-D graphical representation of data\n",
    "sns.heatmap(data.corr(),annot=True,cmap='viridis')"
   ]
  },
  {
   "cell_type": "code",
   "execution_count": 10,
   "metadata": {},
   "outputs": [
    {
     "data": {
      "text/plain": [
       "<seaborn.matrix.ClusterGrid at 0x1deead455c8>"
      ]
     },
     "execution_count": 10,
     "metadata": {},
     "output_type": "execute_result"
    },
    {
     "data": {
      "image/png": "[encoded data removed]",
      "text/plain": [
       "<Figure size 720x720 with 4 Axes>"
      ]
     },
     "metadata": {
      "needs_background": "light"
     },
     "output_type": "display_data"
    }
   ],
   "source": [
    "#It is a hierarichal clusters to order data by similarity\n",
    "sns.clustermap(data.corr(),annot=True,cmap='viridis')"
   ]
  },
  {
   "cell_type": "code",
   "execution_count": 11,
   "metadata": {},
   "outputs": [
    {
     "data": {
      "text/plain": [
       "<AxesSubplot:xlabel='pet_category'>"
      ]
     },
     "execution_count": 11,
     "metadata": {},
     "output_type": "execute_result"
    },
    {
     "data": {
      "image/png": "[encoded data removed]",
      "text/plain": [
       "<Figure size 432x288 with 1 Axes>"
      ]
     },
     "metadata": {
      "needs_background": "light"
     },
     "output_type": "display_data"
    }
   ],
   "source": [
    "#It shows a histogram with a line on it \n",
    "sns.distplot(data['pet_category'],kde=False)"
   ]
  },
  {
   "cell_type": "code",
   "execution_count": 12,
   "metadata": {},
   "outputs": [
    {
     "data": {
      "text/plain": [
       "<AxesSubplot:xlabel='breed_category'>"
      ]
     },
     "execution_count": 12,
     "metadata": {},
     "output_type": "execute_result"
    },
    {
     "data": {
      "image/png": "[encoded data removed]",
      "text/plain": [
       "<Figure size 432x288 with 1 Axes>"
      ]
     },
     "metadata": {
      "needs_background": "light"
     },
     "output_type": "display_data"
    }
   ],
   "source": [
    "sns.distplot(data['breed_category'])"
   ]
  },
  {
   "cell_type": "code",
   "execution_count": 13,
   "metadata": {},
   "outputs": [
    {
     "data": {
      "text/plain": [
       "Black                4620\n",
       "White                2453\n",
       "Brown                1791\n",
       "Brown Tabby          1687\n",
       "Tan                  1349\n",
       "Blue                  852\n",
       "Orange Tabby          791\n",
       "Red                   526\n",
       "Brown Brindle         496\n",
       "Tricolor              469\n",
       "Blue Tabby            386\n",
       "Tortie                366\n",
       "Calico                343\n",
       "Gray                  307\n",
       "Chocolate             259\n",
       "Torbie                242\n",
       "Cream Tabby           191\n",
       "Sable                 167\n",
       "Cream                 162\n",
       "Fawn                  159\n",
       "Yellow                143\n",
       "Buff                  125\n",
       "Lynx Point            117\n",
       "Blue Merle            104\n",
       "Seal Point             78\n",
       "Black Brindle          66\n",
       "Gray Tabby             65\n",
       "Black Tabby            55\n",
       "Flame Point            52\n",
       "Orange                 39\n",
       "Brown Merle            39\n",
       "Black Smoke            32\n",
       "Gold                   31\n",
       "Tortie Point           26\n",
       "Silver                 24\n",
       "Red Tick               23\n",
       "Blue Tick              21\n",
       "Blue Point             20\n",
       "Lilac Point            19\n",
       "Silver Tabby           18\n",
       "Yellow Brindle         15\n",
       "Red Merle              13\n",
       "Apricot                13\n",
       "Calico Point           12\n",
       "Blue Tiger             10\n",
       "Blue Cream             10\n",
       "Chocolate Point         9\n",
       "Pink                    8\n",
       "Green                   8\n",
       "Blue Smoke              6\n",
       "Brown Tiger             4\n",
       "Silver Lynx Point       4\n",
       "Agouti                  4\n",
       "Liver                   3\n",
       "Liver Tick              1\n",
       "Black Tiger             1\n",
       "Name: color_type, dtype: int64"
      ]
     },
     "execution_count": 13,
     "metadata": {},
     "output_type": "execute_result"
    }
   ],
   "source": [
    "#more frequent color_type \n",
    "data['color_type'].value_counts()"
   ]
  },
  {
   "cell_type": "code",
   "execution_count": 14,
   "metadata": {},
   "outputs": [
    {
     "data": {
      "text/plain": [
       "pet_id            False\n",
       "issue_date        False\n",
       "listing_date      False\n",
       "condition          True\n",
       "color_type        False\n",
       "length(m)         False\n",
       "height(cm)        False\n",
       "X1                False\n",
       "X2                False\n",
       "breed_category    False\n",
       "pet_category      False\n",
       "dtype: bool"
      ]
     },
     "execution_count": 14,
     "metadata": {},
     "output_type": "execute_result"
    }
   ],
   "source": [
    "#to check any nan value present in a particular column(also it returns boolean value)\n",
    "data.isna().any()"
   ]
  },
  {
   "cell_type": "code",
   "execution_count": 15,
   "metadata": {},
   "outputs": [
    {
     "data": {
      "text/plain": [
       "(18834, 11)"
      ]
     },
     "execution_count": 15,
     "metadata": {},
     "output_type": "execute_result"
    }
   ],
   "source": [
    "#rows and columns in a dataset\n",
    "data.shape"
   ]
  },
  {
   "cell_type": "code",
   "execution_count": 16,
   "metadata": {},
   "outputs": [
    {
     "data": {
      "text/plain": [
       "array([1, 2, 4, 0], dtype=int64)"
      ]
     },
     "execution_count": 16,
     "metadata": {},
     "output_type": "execute_result"
    }
   ],
   "source": [
    "#distinct values in a particular column\n",
    "data['pet_category'].unique()"
   ]
  },
  {
   "cell_type": "code",
   "execution_count": 17,
   "metadata": {},
   "outputs": [],
   "source": [
    "#to fill the nan value with mode value\n",
    "data['condition']=data['condition'].fillna(data['condition'].mode().values[0])"
   ]
  },
  {
   "cell_type": "code",
   "execution_count": 18,
   "metadata": {},
   "outputs": [
    {
     "data": {
      "text/plain": [
       "56"
      ]
     },
     "execution_count": 18,
     "metadata": {},
     "output_type": "execute_result"
    }
   ],
   "source": [
    "#Total distinct column\n",
    "data['color_type'].nunique()"
   ]
  },
  {
   "cell_type": "code",
   "execution_count": 19,
   "metadata": {},
   "outputs": [],
   "source": [
    "#It convert categorical variable into dummy variables\n",
    "dummy=pd.get_dummies(data['color_type'],drop_first=True)"
   ]
  },
  {
   "cell_type": "code",
   "execution_count": 20,
   "metadata": {},
   "outputs": [],
   "source": [
    "data.drop(['color_type'],axis=1,inplace=True)"
   ]
  },
  {
   "cell_type": "code",
   "execution_count": 21,
   "metadata": {},
   "outputs": [],
   "source": [
    "#concat data and dummy \n",
    "data=pd.concat([data,dummy],axis=1)"
   ]
  },
  {
   "cell_type": "code",
   "execution_count": 22,
   "metadata": {},
   "outputs": [],
   "source": [
    "data.drop(['Black Tiger','Brown Tiger','Liver Tick'],axis=1,inplace=True)"
   ]
  },
  {
   "cell_type": "code",
   "execution_count": 23,
   "metadata": {},
   "outputs": [
    {
     "data": {
      "text/html": [
       "<div>\n",
       "<style scoped>\n",
       "    .dataframe tbody tr th:only-of-type {\n",
       "        vertical-align: middle;\n",
       "    }\n",
       "\n",
       "    .dataframe tbody tr th {\n",
       "        vertical-align: top;\n",
       "    }\n",
       "\n",
       "    .dataframe thead th {\n",
       "        text-align: right;\n",
       "    }\n",
       "</style>\n",
       "<table border=\"1\" class=\"dataframe\">\n",
       "  <thead>\n",
       "    <tr style=\"text-align: right;\">\n",
       "      <th></th>\n",
       "      <th>condition</th>\n",
       "      <th>length(m)</th>\n",
       "      <th>height(cm)</th>\n",
       "      <th>X1</th>\n",
       "      <th>X2</th>\n",
       "      <th>Apricot</th>\n",
       "      <th>Black</th>\n",
       "      <th>Black Brindle</th>\n",
       "      <th>Black Smoke</th>\n",
       "      <th>Black Tabby</th>\n",
       "      <th>...</th>\n",
       "      <th>Silver Lynx Point</th>\n",
       "      <th>Silver Tabby</th>\n",
       "      <th>Tan</th>\n",
       "      <th>Torbie</th>\n",
       "      <th>Tortie</th>\n",
       "      <th>Tortie Point</th>\n",
       "      <th>Tricolor</th>\n",
       "      <th>White</th>\n",
       "      <th>Yellow</th>\n",
       "      <th>Yellow Brindle</th>\n",
       "    </tr>\n",
       "  </thead>\n",
       "  <tbody>\n",
       "    <tr>\n",
       "      <th>0</th>\n",
       "      <td>2.0</td>\n",
       "      <td>0.80</td>\n",
       "      <td>7.78</td>\n",
       "      <td>13</td>\n",
       "      <td>9</td>\n",
       "      <td>0</td>\n",
       "      <td>0</td>\n",
       "      <td>0</td>\n",
       "      <td>0</td>\n",
       "      <td>0</td>\n",
       "      <td>...</td>\n",
       "      <td>0</td>\n",
       "      <td>0</td>\n",
       "      <td>0</td>\n",
       "      <td>0</td>\n",
       "      <td>0</td>\n",
       "      <td>0</td>\n",
       "      <td>0</td>\n",
       "      <td>0</td>\n",
       "      <td>0</td>\n",
       "      <td>0</td>\n",
       "    </tr>\n",
       "    <tr>\n",
       "      <th>1</th>\n",
       "      <td>1.0</td>\n",
       "      <td>0.72</td>\n",
       "      <td>14.19</td>\n",
       "      <td>13</td>\n",
       "      <td>9</td>\n",
       "      <td>0</td>\n",
       "      <td>0</td>\n",
       "      <td>0</td>\n",
       "      <td>0</td>\n",
       "      <td>0</td>\n",
       "      <td>...</td>\n",
       "      <td>0</td>\n",
       "      <td>0</td>\n",
       "      <td>0</td>\n",
       "      <td>0</td>\n",
       "      <td>0</td>\n",
       "      <td>0</td>\n",
       "      <td>0</td>\n",
       "      <td>1</td>\n",
       "      <td>0</td>\n",
       "      <td>0</td>\n",
       "    </tr>\n",
       "    <tr>\n",
       "      <th>2</th>\n",
       "      <td>1.0</td>\n",
       "      <td>0.15</td>\n",
       "      <td>40.90</td>\n",
       "      <td>15</td>\n",
       "      <td>4</td>\n",
       "      <td>0</td>\n",
       "      <td>0</td>\n",
       "      <td>0</td>\n",
       "      <td>0</td>\n",
       "      <td>0</td>\n",
       "      <td>...</td>\n",
       "      <td>0</td>\n",
       "      <td>0</td>\n",
       "      <td>0</td>\n",
       "      <td>0</td>\n",
       "      <td>0</td>\n",
       "      <td>0</td>\n",
       "      <td>0</td>\n",
       "      <td>0</td>\n",
       "      <td>0</td>\n",
       "      <td>0</td>\n",
       "    </tr>\n",
       "    <tr>\n",
       "      <th>3</th>\n",
       "      <td>1.0</td>\n",
       "      <td>0.62</td>\n",
       "      <td>17.82</td>\n",
       "      <td>0</td>\n",
       "      <td>1</td>\n",
       "      <td>0</td>\n",
       "      <td>0</td>\n",
       "      <td>0</td>\n",
       "      <td>0</td>\n",
       "      <td>0</td>\n",
       "      <td>...</td>\n",
       "      <td>0</td>\n",
       "      <td>0</td>\n",
       "      <td>0</td>\n",
       "      <td>0</td>\n",
       "      <td>0</td>\n",
       "      <td>0</td>\n",
       "      <td>0</td>\n",
       "      <td>1</td>\n",
       "      <td>0</td>\n",
       "      <td>0</td>\n",
       "    </tr>\n",
       "    <tr>\n",
       "      <th>4</th>\n",
       "      <td>2.0</td>\n",
       "      <td>0.50</td>\n",
       "      <td>11.06</td>\n",
       "      <td>18</td>\n",
       "      <td>4</td>\n",
       "      <td>0</td>\n",
       "      <td>1</td>\n",
       "      <td>0</td>\n",
       "      <td>0</td>\n",
       "      <td>0</td>\n",
       "      <td>...</td>\n",
       "      <td>0</td>\n",
       "      <td>0</td>\n",
       "      <td>0</td>\n",
       "      <td>0</td>\n",
       "      <td>0</td>\n",
       "      <td>0</td>\n",
       "      <td>0</td>\n",
       "      <td>0</td>\n",
       "      <td>0</td>\n",
       "      <td>0</td>\n",
       "    </tr>\n",
       "  </tbody>\n",
       "</table>\n",
       "<p>5 rows × 57 columns</p>\n",
       "</div>"
      ],
      "text/plain": [
       "   condition  length(m)  height(cm)  X1  X2  Apricot  Black  Black Brindle  \\\n",
       "0        2.0       0.80        7.78  13   9        0      0              0   \n",
       "1        1.0       0.72       14.19  13   9        0      0              0   \n",
       "2        1.0       0.15       40.90  15   4        0      0              0   \n",
       "3        1.0       0.62       17.82   0   1        0      0              0   \n",
       "4        2.0       0.50       11.06  18   4        0      1              0   \n",
       "\n",
       "   Black Smoke  Black Tabby  ...  Silver Lynx Point  Silver Tabby  Tan  \\\n",
       "0            0            0  ...                  0             0    0   \n",
       "1            0            0  ...                  0             0    0   \n",
       "2            0            0  ...                  0             0    0   \n",
       "3            0            0  ...                  0             0    0   \n",
       "4            0            0  ...                  0             0    0   \n",
       "\n",
       "   Torbie  Tortie  Tortie Point  Tricolor  White  Yellow  Yellow Brindle  \n",
       "0       0       0             0         0      0       0               0  \n",
       "1       0       0             0         0      1       0               0  \n",
       "2       0       0             0         0      0       0               0  \n",
       "3       0       0             0         0      1       0               0  \n",
       "4       0       0             0         0      0       0               0  \n",
       "\n",
       "[5 rows x 57 columns]"
      ]
     },
     "execution_count": 23,
     "metadata": {},
     "output_type": "execute_result"
    }
   ],
   "source": [
    "#X=Independent columns\n",
    "X=data.drop(['pet_id','issue_date','listing_date','breed_category','pet_category'],axis=1)\n",
    "X.head()"
   ]
  },
  {
   "cell_type": "code",
   "execution_count": 24,
   "metadata": {},
   "outputs": [],
   "source": [
    "#Dependent columns\n",
    "y=data['breed_category']"
   ]
  },
  {
   "cell_type": "markdown",
   "metadata": {},
   "source": [
    "### Splitting the data"
   ]
  },
  {
   "cell_type": "code",
   "execution_count": 25,
   "metadata": {},
   "outputs": [],
   "source": [
    "#splitting training data and test data\n",
    "from sklearn.model_selection import train_test_split\n",
    "X_train,X_test,y_train,y_test=train_test_split(X,y,random_state=101,test_size=0.33)"
   ]
  },
  {
   "cell_type": "markdown",
   "metadata": {},
   "source": [
    "## Scaling"
   ]
  },
  {
   "cell_type": "code",
   "execution_count": 26,
   "metadata": {},
   "outputs": [],
   "source": [
    "#it standardizes a feature by subtracting the mean and the scaling to unit variance\n",
    "from sklearn.preprocessing import StandardScaler\n",
    "scaler=StandardScaler()\n",
    "X_train=scaler.fit_transform(X_train)\n",
    "X_test=scaler.transform(X_test)"
   ]
  },
  {
   "cell_type": "markdown",
   "metadata": {},
   "source": [
    "## Breed_Category prediction"
   ]
  },
  {
   "cell_type": "code",
   "execution_count": 27,
   "metadata": {},
   "outputs": [],
   "source": [
    "from xgboost import XGBClassifier\n",
    "classifier=XGBClassifier()"
   ]
  },
  {
   "cell_type": "code",
   "execution_count": 28,
   "metadata": {},
   "outputs": [
    {
     "data": {
      "text/plain": [
       "XGBClassifier(base_score=0.5, booster='gbtree', colsample_bylevel=1,\n",
       "              colsample_bynode=1, colsample_bytree=1, gamma=0, gpu_id=-1,\n",
       "              importance_type='gain', interaction_constraints='',\n",
       "              learning_rate=0.300000012, max_delta_step=0, max_depth=6,\n",
       "              min_child_weight=1, missing=nan, monotone_constraints='()',\n",
       "              n_estimators=100, n_jobs=0, num_parallel_tree=1,\n",
       "              objective='multi:softprob', random_state=0, reg_alpha=0,\n",
       "              reg_lambda=1, scale_pos_weight=None, subsample=1,\n",
       "              tree_method='exact', validate_parameters=1, verbosity=None)"
      ]
     },
     "execution_count": 28,
     "metadata": {},
     "output_type": "execute_result"
    }
   ],
   "source": [
    "#Training my model\n",
    "classifier.fit(X_train,y_train)"
   ]
  },
  {
   "cell_type": "code",
   "execution_count": 29,
   "metadata": {},
   "outputs": [],
   "source": [
    "#prediction\n",
    "y_pred=classifier.predict(X_test)"
   ]
  },
  {
   "cell_type": "markdown",
   "metadata": {},
   "source": [
    "### Pet_Category Prediction"
   ]
  },
  {
   "cell_type": "code",
   "execution_count": 30,
   "metadata": {},
   "outputs": [
    {
     "data": {
      "text/html": [
       "<div>\n",
       "<style scoped>\n",
       "    .dataframe tbody tr th:only-of-type {\n",
       "        vertical-align: middle;\n",
       "    }\n",
       "\n",
       "    .dataframe tbody tr th {\n",
       "        vertical-align: top;\n",
       "    }\n",
       "\n",
       "    .dataframe thead th {\n",
       "        text-align: right;\n",
       "    }\n",
       "</style>\n",
       "<table border=\"1\" class=\"dataframe\">\n",
       "  <thead>\n",
       "    <tr style=\"text-align: right;\">\n",
       "      <th></th>\n",
       "      <th>condition</th>\n",
       "      <th>length(m)</th>\n",
       "      <th>height(cm)</th>\n",
       "      <th>X1</th>\n",
       "      <th>X2</th>\n",
       "      <th>Apricot</th>\n",
       "      <th>Black</th>\n",
       "      <th>Black Brindle</th>\n",
       "      <th>Black Smoke</th>\n",
       "      <th>Black Tabby</th>\n",
       "      <th>...</th>\n",
       "      <th>Silver Lynx Point</th>\n",
       "      <th>Silver Tabby</th>\n",
       "      <th>Tan</th>\n",
       "      <th>Torbie</th>\n",
       "      <th>Tortie</th>\n",
       "      <th>Tortie Point</th>\n",
       "      <th>Tricolor</th>\n",
       "      <th>White</th>\n",
       "      <th>Yellow</th>\n",
       "      <th>Yellow Brindle</th>\n",
       "    </tr>\n",
       "  </thead>\n",
       "  <tbody>\n",
       "    <tr>\n",
       "      <th>0</th>\n",
       "      <td>2.0</td>\n",
       "      <td>0.80</td>\n",
       "      <td>7.78</td>\n",
       "      <td>13</td>\n",
       "      <td>9</td>\n",
       "      <td>0</td>\n",
       "      <td>0</td>\n",
       "      <td>0</td>\n",
       "      <td>0</td>\n",
       "      <td>0</td>\n",
       "      <td>...</td>\n",
       "      <td>0</td>\n",
       "      <td>0</td>\n",
       "      <td>0</td>\n",
       "      <td>0</td>\n",
       "      <td>0</td>\n",
       "      <td>0</td>\n",
       "      <td>0</td>\n",
       "      <td>0</td>\n",
       "      <td>0</td>\n",
       "      <td>0</td>\n",
       "    </tr>\n",
       "    <tr>\n",
       "      <th>1</th>\n",
       "      <td>1.0</td>\n",
       "      <td>0.72</td>\n",
       "      <td>14.19</td>\n",
       "      <td>13</td>\n",
       "      <td>9</td>\n",
       "      <td>0</td>\n",
       "      <td>0</td>\n",
       "      <td>0</td>\n",
       "      <td>0</td>\n",
       "      <td>0</td>\n",
       "      <td>...</td>\n",
       "      <td>0</td>\n",
       "      <td>0</td>\n",
       "      <td>0</td>\n",
       "      <td>0</td>\n",
       "      <td>0</td>\n",
       "      <td>0</td>\n",
       "      <td>0</td>\n",
       "      <td>1</td>\n",
       "      <td>0</td>\n",
       "      <td>0</td>\n",
       "    </tr>\n",
       "    <tr>\n",
       "      <th>2</th>\n",
       "      <td>1.0</td>\n",
       "      <td>0.15</td>\n",
       "      <td>40.90</td>\n",
       "      <td>15</td>\n",
       "      <td>4</td>\n",
       "      <td>0</td>\n",
       "      <td>0</td>\n",
       "      <td>0</td>\n",
       "      <td>0</td>\n",
       "      <td>0</td>\n",
       "      <td>...</td>\n",
       "      <td>0</td>\n",
       "      <td>0</td>\n",
       "      <td>0</td>\n",
       "      <td>0</td>\n",
       "      <td>0</td>\n",
       "      <td>0</td>\n",
       "      <td>0</td>\n",
       "      <td>0</td>\n",
       "      <td>0</td>\n",
       "      <td>0</td>\n",
       "    </tr>\n",
       "    <tr>\n",
       "      <th>3</th>\n",
       "      <td>1.0</td>\n",
       "      <td>0.62</td>\n",
       "      <td>17.82</td>\n",
       "      <td>0</td>\n",
       "      <td>1</td>\n",
       "      <td>0</td>\n",
       "      <td>0</td>\n",
       "      <td>0</td>\n",
       "      <td>0</td>\n",
       "      <td>0</td>\n",
       "      <td>...</td>\n",
       "      <td>0</td>\n",
       "      <td>0</td>\n",
       "      <td>0</td>\n",
       "      <td>0</td>\n",
       "      <td>0</td>\n",
       "      <td>0</td>\n",
       "      <td>0</td>\n",
       "      <td>1</td>\n",
       "      <td>0</td>\n",
       "      <td>0</td>\n",
       "    </tr>\n",
       "    <tr>\n",
       "      <th>4</th>\n",
       "      <td>2.0</td>\n",
       "      <td>0.50</td>\n",
       "      <td>11.06</td>\n",
       "      <td>18</td>\n",
       "      <td>4</td>\n",
       "      <td>0</td>\n",
       "      <td>1</td>\n",
       "      <td>0</td>\n",
       "      <td>0</td>\n",
       "      <td>0</td>\n",
       "      <td>...</td>\n",
       "      <td>0</td>\n",
       "      <td>0</td>\n",
       "      <td>0</td>\n",
       "      <td>0</td>\n",
       "      <td>0</td>\n",
       "      <td>0</td>\n",
       "      <td>0</td>\n",
       "      <td>0</td>\n",
       "      <td>0</td>\n",
       "      <td>0</td>\n",
       "    </tr>\n",
       "  </tbody>\n",
       "</table>\n",
       "<p>5 rows × 57 columns</p>\n",
       "</div>"
      ],
      "text/plain": [
       "   condition  length(m)  height(cm)  X1  X2  Apricot  Black  Black Brindle  \\\n",
       "0        2.0       0.80        7.78  13   9        0      0              0   \n",
       "1        1.0       0.72       14.19  13   9        0      0              0   \n",
       "2        1.0       0.15       40.90  15   4        0      0              0   \n",
       "3        1.0       0.62       17.82   0   1        0      0              0   \n",
       "4        2.0       0.50       11.06  18   4        0      1              0   \n",
       "\n",
       "   Black Smoke  Black Tabby  ...  Silver Lynx Point  Silver Tabby  Tan  \\\n",
       "0            0            0  ...                  0             0    0   \n",
       "1            0            0  ...                  0             0    0   \n",
       "2            0            0  ...                  0             0    0   \n",
       "3            0            0  ...                  0             0    0   \n",
       "4            0            0  ...                  0             0    0   \n",
       "\n",
       "   Torbie  Tortie  Tortie Point  Tricolor  White  Yellow  Yellow Brindle  \n",
       "0       0       0             0         0      0       0               0  \n",
       "1       0       0             0         0      1       0               0  \n",
       "2       0       0             0         0      0       0               0  \n",
       "3       0       0             0         0      1       0               0  \n",
       "4       0       0             0         0      0       0               0  \n",
       "\n",
       "[5 rows x 57 columns]"
      ]
     },
     "execution_count": 30,
     "metadata": {},
     "output_type": "execute_result"
    }
   ],
   "source": [
    "#X1=Independent columns\n",
    "X1=data.drop(['pet_id','issue_date','listing_date','breed_category','pet_category'],axis=1)\n",
    "X1.head()"
   ]
  },
  {
   "cell_type": "code",
   "execution_count": 31,
   "metadata": {},
   "outputs": [],
   "source": [
    "#Dependent column\n",
    "y1=data['pet_category']"
   ]
  },
  {
   "cell_type": "code",
   "execution_count": 32,
   "metadata": {},
   "outputs": [],
   "source": [
    "from sklearn.model_selection import train_test_split\n",
    "X1_train,X1_test,y1_train,y1_test=train_test_split(X1,y1,random_state=101,test_size=0.33)"
   ]
  },
  {
   "cell_type": "code",
   "execution_count": 33,
   "metadata": {},
   "outputs": [],
   "source": [
    "#It standardizes a feature by subtracting the mean and the scaling to unit variance\n",
    "from sklearn.preprocessing import StandardScaler\n",
    "scaler=StandardScaler()\n",
    "X1_train=scaler.fit_transform(X1_train)\n",
    "X1_test=scaler.transform(X1_test)"
   ]
  },
  {
   "cell_type": "code",
   "execution_count": 34,
   "metadata": {},
   "outputs": [],
   "source": [
    "from xgboost import XGBClassifier\n",
    "classifier1=XGBClassifier()"
   ]
  },
  {
   "cell_type": "code",
   "execution_count": 35,
   "metadata": {
    "scrolled": true
   },
   "outputs": [
    {
     "data": {
      "text/plain": [
       "XGBClassifier(base_score=0.5, booster='gbtree', colsample_bylevel=1,\n",
       "              colsample_bynode=1, colsample_bytree=1, gamma=0, gpu_id=-1,\n",
       "              importance_type='gain', interaction_constraints='',\n",
       "              learning_rate=0.300000012, max_delta_step=0, max_depth=6,\n",
       "              min_child_weight=1, missing=nan, monotone_constraints='()',\n",
       "              n_estimators=100, n_jobs=0, num_parallel_tree=1,\n",
       "              objective='multi:softprob', random_state=0, reg_alpha=0,\n",
       "              reg_lambda=1, scale_pos_weight=None, subsample=1,\n",
       "              tree_method='exact', validate_parameters=1, verbosity=None)"
      ]
     },
     "execution_count": 35,
     "metadata": {},
     "output_type": "execute_result"
    }
   ],
   "source": [
    "classifier1.fit(X1_train,y1_train)"
   ]
  },
  {
   "cell_type": "code",
   "execution_count": 36,
   "metadata": {},
   "outputs": [],
   "source": [
    "y_pred1=classifier1.predict(X1_test)"
   ]
  },
  {
   "cell_type": "code",
   "execution_count": 37,
   "metadata": {},
   "outputs": [
    {
     "data": {
      "text/plain": [
       "array([1, 2, 2, ..., 1, 2, 1], dtype=int64)"
      ]
     },
     "execution_count": 37,
     "metadata": {},
     "output_type": "execute_result"
    }
   ],
   "source": [
    "y_pred1"
   ]
  },
  {
   "cell_type": "markdown",
   "metadata": {},
   "source": [
    "### Test"
   ]
  },
  {
   "cell_type": "code",
   "execution_count": 38,
   "metadata": {},
   "outputs": [],
   "source": [
    "#read the test data using pandas\n",
    "test_data=pd.read_csv(r'C:\\Users\\Pradeepa\\Desktop\\Hackerearth problem statement\\Dataset\\test.csv')"
   ]
  },
  {
   "cell_type": "code",
   "execution_count": 39,
   "metadata": {},
   "outputs": [
    {
     "data": {
      "text/html": [
       "<div>\n",
       "<style scoped>\n",
       "    .dataframe tbody tr th:only-of-type {\n",
       "        vertical-align: middle;\n",
       "    }\n",
       "\n",
       "    .dataframe tbody tr th {\n",
       "        vertical-align: top;\n",
       "    }\n",
       "\n",
       "    .dataframe thead th {\n",
       "        text-align: right;\n",
       "    }\n",
       "</style>\n",
       "<table border=\"1\" class=\"dataframe\">\n",
       "  <thead>\n",
       "    <tr style=\"text-align: right;\">\n",
       "      <th></th>\n",
       "      <th>pet_id</th>\n",
       "      <th>issue_date</th>\n",
       "      <th>listing_date</th>\n",
       "      <th>condition</th>\n",
       "      <th>color_type</th>\n",
       "      <th>length(m)</th>\n",
       "      <th>height(cm)</th>\n",
       "      <th>X1</th>\n",
       "      <th>X2</th>\n",
       "    </tr>\n",
       "  </thead>\n",
       "  <tbody>\n",
       "    <tr>\n",
       "      <th>0</th>\n",
       "      <td>ANSL_75005</td>\n",
       "      <td>2005-08-17 00:00:00</td>\n",
       "      <td>2017-09-07 15:35:00</td>\n",
       "      <td>0.0</td>\n",
       "      <td>Black</td>\n",
       "      <td>0.87</td>\n",
       "      <td>42.73</td>\n",
       "      <td>0</td>\n",
       "      <td>7</td>\n",
       "    </tr>\n",
       "    <tr>\n",
       "      <th>1</th>\n",
       "      <td>ANSL_76663</td>\n",
       "      <td>2018-11-15 00:00:00</td>\n",
       "      <td>2019-05-08 17:24:00</td>\n",
       "      <td>1.0</td>\n",
       "      <td>Orange Tabby</td>\n",
       "      <td>0.06</td>\n",
       "      <td>6.71</td>\n",
       "      <td>0</td>\n",
       "      <td>1</td>\n",
       "    </tr>\n",
       "    <tr>\n",
       "      <th>2</th>\n",
       "      <td>ANSL_58259</td>\n",
       "      <td>2012-10-11 00:00:00</td>\n",
       "      <td>2018-04-02 16:51:00</td>\n",
       "      <td>1.0</td>\n",
       "      <td>Black</td>\n",
       "      <td>0.24</td>\n",
       "      <td>41.21</td>\n",
       "      <td>0</td>\n",
       "      <td>7</td>\n",
       "    </tr>\n",
       "    <tr>\n",
       "      <th>3</th>\n",
       "      <td>ANSL_67171</td>\n",
       "      <td>2015-02-13 00:00:00</td>\n",
       "      <td>2018-04-06 07:25:00</td>\n",
       "      <td>1.0</td>\n",
       "      <td>Black</td>\n",
       "      <td>0.29</td>\n",
       "      <td>8.46</td>\n",
       "      <td>7</td>\n",
       "      <td>1</td>\n",
       "    </tr>\n",
       "    <tr>\n",
       "      <th>4</th>\n",
       "      <td>ANSL_72871</td>\n",
       "      <td>2017-01-18 00:00:00</td>\n",
       "      <td>2018-04-26 13:42:00</td>\n",
       "      <td>1.0</td>\n",
       "      <td>Brown</td>\n",
       "      <td>0.71</td>\n",
       "      <td>30.92</td>\n",
       "      <td>0</td>\n",
       "      <td>7</td>\n",
       "    </tr>\n",
       "  </tbody>\n",
       "</table>\n",
       "</div>"
      ],
      "text/plain": [
       "       pet_id           issue_date         listing_date  condition  \\\n",
       "0  ANSL_75005  2005-08-17 00:00:00  2017-09-07 15:35:00        0.0   \n",
       "1  ANSL_76663  2018-11-15 00:00:00  2019-05-08 17:24:00        1.0   \n",
       "2  ANSL_58259  2012-10-11 00:00:00  2018-04-02 16:51:00        1.0   \n",
       "3  ANSL_67171  2015-02-13 00:00:00  2018-04-06 07:25:00        1.0   \n",
       "4  ANSL_72871  2017-01-18 00:00:00  2018-04-26 13:42:00        1.0   \n",
       "\n",
       "     color_type  length(m)  height(cm)  X1  X2  \n",
       "0         Black       0.87       42.73   0   7  \n",
       "1  Orange Tabby       0.06        6.71   0   1  \n",
       "2         Black       0.24       41.21   0   7  \n",
       "3         Black       0.29        8.46   7   1  \n",
       "4         Brown       0.71       30.92   0   7  "
      ]
     },
     "execution_count": 39,
     "metadata": {},
     "output_type": "execute_result"
    }
   ],
   "source": [
    "#First 5 rows of the data\n",
    "test_data.head()"
   ]
  },
  {
   "cell_type": "code",
   "execution_count": 40,
   "metadata": {},
   "outputs": [
    {
     "data": {
      "text/plain": [
       "Black                1955\n",
       "White                1033\n",
       "Brown                 801\n",
       "Brown Tabby           712\n",
       "Tan                   585\n",
       "Blue                  383\n",
       "Orange Tabby          332\n",
       "Brown Brindle         222\n",
       "Red                   216\n",
       "Tricolor              195\n",
       "Blue Tabby            171\n",
       "Calico                152\n",
       "Tortie                146\n",
       "Chocolate             133\n",
       "Gray                  129\n",
       "Torbie                 99\n",
       "Cream                  78\n",
       "Cream Tabby            69\n",
       "Sable                  65\n",
       "Yellow                 65\n",
       "Buff                   58\n",
       "Lynx Point             56\n",
       "Fawn                   56\n",
       "Seal Point             37\n",
       "Gray Tabby             31\n",
       "Black Tabby            31\n",
       "Blue Merle             30\n",
       "Black Brindle          26\n",
       "Flame Point            22\n",
       "Brown Merle            22\n",
       "Blue Tick              20\n",
       "Orange                 17\n",
       "Red Merle              12\n",
       "Red Tick               11\n",
       "Black Smoke            10\n",
       "Silver                 10\n",
       "Gold                    9\n",
       "Chocolate Point         8\n",
       "Silver Tabby            8\n",
       "Yellow Brindle          8\n",
       "Tortie Point            8\n",
       "Blue Smoke              6\n",
       "Blue Cream              5\n",
       "Green                   5\n",
       "Calico Point            5\n",
       "Blue Point              3\n",
       "Silver Lynx Point       3\n",
       "Apricot                 3\n",
       "Pink                    3\n",
       "Lilac Point             3\n",
       "Agouti                  2\n",
       "Blue Tiger              1\n",
       "Liver                   1\n",
       "Liver Tick              1\n",
       "Name: color_type, dtype: int64"
      ]
     },
     "execution_count": 40,
     "metadata": {},
     "output_type": "execute_result"
    }
   ],
   "source": [
    "#more frequent color_type \n",
    "test_data['color_type'].value_counts()"
   ]
  },
  {
   "cell_type": "code",
   "execution_count": 41,
   "metadata": {},
   "outputs": [
    {
     "data": {
      "text/plain": [
       "(8072, 9)"
      ]
     },
     "execution_count": 41,
     "metadata": {},
     "output_type": "execute_result"
    }
   ],
   "source": [
    "#rows and columns\n",
    "test_data.shape"
   ]
  },
  {
   "cell_type": "code",
   "execution_count": 42,
   "metadata": {},
   "outputs": [
    {
     "data": {
      "text/plain": [
       "array(['Black', 'Orange Tabby', 'Brown', 'Brown Tabby', 'White', 'Fawn',\n",
       "       'Red', 'Blue Tabby', 'Tan', 'Apricot', 'Tricolor', 'Brown Brindle',\n",
       "       'Gray', 'Chocolate', 'Blue', 'Yellow', 'Gray Tabby', 'Blue Merle',\n",
       "       'Lynx Point', 'Black Brindle', 'Calico', 'Tortie', 'Buff',\n",
       "       'Lilac Point', 'Cream', 'Sable', 'Silver', 'Cream Tabby',\n",
       "       'Calico Point', 'Red Merle', 'Blue Tick', 'Flame Point', 'Torbie',\n",
       "       'Brown Merle', 'Silver Tabby', 'Black Tabby', 'Tortie Point',\n",
       "       'Blue Smoke', 'Seal Point', 'Blue Cream', 'Yellow Brindle',\n",
       "       'Chocolate Point', 'Orange', 'Black Smoke', 'Red Tick',\n",
       "       'Silver Lynx Point', 'Blue Point', 'Agouti', 'Gold', 'Green',\n",
       "       'Blue Tiger', 'Pink', 'Liver', 'Liver Tick'], dtype=object)"
      ]
     },
     "execution_count": 42,
     "metadata": {},
     "output_type": "execute_result"
    }
   ],
   "source": [
    "test_data['color_type'].unique()"
   ]
  },
  {
   "cell_type": "code",
   "execution_count": 43,
   "metadata": {},
   "outputs": [],
   "source": [
    "test_data.drop(['issue_date','listing_date'],axis=1,inplace=True)\n",
    "pet_id=test_data['pet_id']"
   ]
  },
  {
   "cell_type": "code",
   "execution_count": 44,
   "metadata": {},
   "outputs": [],
   "source": [
    "dummy=pd.get_dummies(test_data['color_type'],drop_first=True)\n",
    "test_data.drop(['color_type'],axis=1,inplace=True)"
   ]
  },
  {
   "cell_type": "code",
   "execution_count": 45,
   "metadata": {},
   "outputs": [],
   "source": [
    "test_data=pd.concat([test_data,dummy],axis=1)"
   ]
  },
  {
   "cell_type": "code",
   "execution_count": 46,
   "metadata": {},
   "outputs": [],
   "source": [
    "test_data.drop(['Liver Tick'],axis=1,inplace=True)"
   ]
  },
  {
   "cell_type": "code",
   "execution_count": 47,
   "metadata": {},
   "outputs": [
    {
     "data": {
      "text/plain": [
       "Index(['pet_id', 'condition', 'length(m)', 'height(cm)', 'X1', 'X2', 'Apricot',\n",
       "       'Black', 'Black Brindle', 'Black Smoke', 'Black Tabby', 'Blue',\n",
       "       'Blue Cream', 'Blue Merle', 'Blue Point', 'Blue Smoke', 'Blue Tabby',\n",
       "       'Blue Tick', 'Blue Tiger', 'Brown', 'Brown Brindle', 'Brown Merle',\n",
       "       'Brown Tabby', 'Buff', 'Calico', 'Calico Point', 'Chocolate',\n",
       "       'Chocolate Point', 'Cream', 'Cream Tabby', 'Fawn', 'Flame Point',\n",
       "       'Gold', 'Gray', 'Gray Tabby', 'Green', 'Lilac Point', 'Liver',\n",
       "       'Lynx Point', 'Orange', 'Orange Tabby', 'Pink', 'Red', 'Red Merle',\n",
       "       'Red Tick', 'Sable', 'Seal Point', 'Silver', 'Silver Lynx Point',\n",
       "       'Silver Tabby', 'Tan', 'Torbie', 'Tortie', 'Tortie Point', 'Tricolor',\n",
       "       'White', 'Yellow', 'Yellow Brindle'],\n",
       "      dtype='object')"
      ]
     },
     "execution_count": 47,
     "metadata": {},
     "output_type": "execute_result"
    }
   ],
   "source": [
    "test_data.columns"
   ]
  },
  {
   "cell_type": "code",
   "execution_count": 48,
   "metadata": {},
   "outputs": [],
   "source": [
    "#Filling the mode value instead of nan value\n",
    "test_data['condition']=test_data['condition'].fillna(test_data['condition'].mode().values[0])"
   ]
  },
  {
   "cell_type": "code",
   "execution_count": 49,
   "metadata": {},
   "outputs": [],
   "source": [
    "test_data = scaler.fit_transform(test_data.drop(['pet_id'],axis=1))\n",
    "test=pd.DataFrame(test_data)"
   ]
  },
  {
   "cell_type": "code",
   "execution_count": 50,
   "metadata": {},
   "outputs": [
    {
     "data": {
      "text/html": [
       "<div>\n",
       "<style scoped>\n",
       "    .dataframe tbody tr th:only-of-type {\n",
       "        vertical-align: middle;\n",
       "    }\n",
       "\n",
       "    .dataframe tbody tr th {\n",
       "        vertical-align: top;\n",
       "    }\n",
       "\n",
       "    .dataframe thead th {\n",
       "        text-align: right;\n",
       "    }\n",
       "</style>\n",
       "<table border=\"1\" class=\"dataframe\">\n",
       "  <thead>\n",
       "    <tr style=\"text-align: right;\">\n",
       "      <th></th>\n",
       "      <th>0</th>\n",
       "      <th>1</th>\n",
       "      <th>2</th>\n",
       "      <th>3</th>\n",
       "      <th>4</th>\n",
       "      <th>5</th>\n",
       "      <th>6</th>\n",
       "      <th>7</th>\n",
       "      <th>8</th>\n",
       "      <th>9</th>\n",
       "      <th>...</th>\n",
       "      <th>47</th>\n",
       "      <th>48</th>\n",
       "      <th>49</th>\n",
       "      <th>50</th>\n",
       "      <th>51</th>\n",
       "      <th>52</th>\n",
       "      <th>53</th>\n",
       "      <th>54</th>\n",
       "      <th>55</th>\n",
       "      <th>56</th>\n",
       "    </tr>\n",
       "  </thead>\n",
       "  <tbody>\n",
       "    <tr>\n",
       "      <th>0</th>\n",
       "      <td>-1.207661</td>\n",
       "      <td>1.252553</td>\n",
       "      <td>1.182838</td>\n",
       "      <td>-0.807684</td>\n",
       "      <td>0.708040</td>\n",
       "      <td>-0.019282</td>\n",
       "      <td>1.768870</td>\n",
       "      <td>-0.056846</td>\n",
       "      <td>-0.035219</td>\n",
       "      <td>-0.062091</td>\n",
       "      <td>...</td>\n",
       "      <td>-0.019282</td>\n",
       "      <td>-0.031497</td>\n",
       "      <td>-0.279527</td>\n",
       "      <td>-0.111431</td>\n",
       "      <td>-0.135722</td>\n",
       "      <td>-0.031497</td>\n",
       "      <td>-0.157339</td>\n",
       "      <td>-0.383085</td>\n",
       "      <td>-0.090099</td>\n",
       "      <td>-0.031497</td>\n",
       "    </tr>\n",
       "    <tr>\n",
       "      <th>1</th>\n",
       "      <td>0.141203</td>\n",
       "      <td>-1.544439</td>\n",
       "      <td>-1.605713</td>\n",
       "      <td>-0.807684</td>\n",
       "      <td>-0.994885</td>\n",
       "      <td>-0.019282</td>\n",
       "      <td>-0.565333</td>\n",
       "      <td>-0.056846</td>\n",
       "      <td>-0.035219</td>\n",
       "      <td>-0.062091</td>\n",
       "      <td>...</td>\n",
       "      <td>-0.019282</td>\n",
       "      <td>-0.031497</td>\n",
       "      <td>-0.279527</td>\n",
       "      <td>-0.111431</td>\n",
       "      <td>-0.135722</td>\n",
       "      <td>-0.031497</td>\n",
       "      <td>-0.157339</td>\n",
       "      <td>-0.383085</td>\n",
       "      <td>-0.090099</td>\n",
       "      <td>-0.031497</td>\n",
       "    </tr>\n",
       "    <tr>\n",
       "      <th>2</th>\n",
       "      <td>0.141203</td>\n",
       "      <td>-0.922885</td>\n",
       "      <td>1.065164</td>\n",
       "      <td>-0.807684</td>\n",
       "      <td>0.708040</td>\n",
       "      <td>-0.019282</td>\n",
       "      <td>1.768870</td>\n",
       "      <td>-0.056846</td>\n",
       "      <td>-0.035219</td>\n",
       "      <td>-0.062091</td>\n",
       "      <td>...</td>\n",
       "      <td>-0.019282</td>\n",
       "      <td>-0.031497</td>\n",
       "      <td>-0.279527</td>\n",
       "      <td>-0.111431</td>\n",
       "      <td>-0.135722</td>\n",
       "      <td>-0.031497</td>\n",
       "      <td>-0.157339</td>\n",
       "      <td>-0.383085</td>\n",
       "      <td>-0.090099</td>\n",
       "      <td>-0.031497</td>\n",
       "    </tr>\n",
       "    <tr>\n",
       "      <th>3</th>\n",
       "      <td>0.141203</td>\n",
       "      <td>-0.750231</td>\n",
       "      <td>-1.470234</td>\n",
       "      <td>0.268339</td>\n",
       "      <td>-0.994885</td>\n",
       "      <td>-0.019282</td>\n",
       "      <td>1.768870</td>\n",
       "      <td>-0.056846</td>\n",
       "      <td>-0.035219</td>\n",
       "      <td>-0.062091</td>\n",
       "      <td>...</td>\n",
       "      <td>-0.019282</td>\n",
       "      <td>-0.031497</td>\n",
       "      <td>-0.279527</td>\n",
       "      <td>-0.111431</td>\n",
       "      <td>-0.135722</td>\n",
       "      <td>-0.031497</td>\n",
       "      <td>-0.157339</td>\n",
       "      <td>-0.383085</td>\n",
       "      <td>-0.090099</td>\n",
       "      <td>-0.031497</td>\n",
       "    </tr>\n",
       "    <tr>\n",
       "      <th>4</th>\n",
       "      <td>0.141203</td>\n",
       "      <td>0.700061</td>\n",
       "      <td>0.268546</td>\n",
       "      <td>-0.807684</td>\n",
       "      <td>0.708040</td>\n",
       "      <td>-0.019282</td>\n",
       "      <td>-0.565333</td>\n",
       "      <td>-0.056846</td>\n",
       "      <td>-0.035219</td>\n",
       "      <td>-0.062091</td>\n",
       "      <td>...</td>\n",
       "      <td>-0.019282</td>\n",
       "      <td>-0.031497</td>\n",
       "      <td>-0.279527</td>\n",
       "      <td>-0.111431</td>\n",
       "      <td>-0.135722</td>\n",
       "      <td>-0.031497</td>\n",
       "      <td>-0.157339</td>\n",
       "      <td>-0.383085</td>\n",
       "      <td>-0.090099</td>\n",
       "      <td>-0.031497</td>\n",
       "    </tr>\n",
       "    <tr>\n",
       "      <th>...</th>\n",
       "      <td>...</td>\n",
       "      <td>...</td>\n",
       "      <td>...</td>\n",
       "      <td>...</td>\n",
       "      <td>...</td>\n",
       "      <td>...</td>\n",
       "      <td>...</td>\n",
       "      <td>...</td>\n",
       "      <td>...</td>\n",
       "      <td>...</td>\n",
       "      <td>...</td>\n",
       "      <td>...</td>\n",
       "      <td>...</td>\n",
       "      <td>...</td>\n",
       "      <td>...</td>\n",
       "      <td>...</td>\n",
       "      <td>...</td>\n",
       "      <td>...</td>\n",
       "      <td>...</td>\n",
       "      <td>...</td>\n",
       "      <td>...</td>\n",
       "    </tr>\n",
       "    <tr>\n",
       "      <th>8067</th>\n",
       "      <td>1.490067</td>\n",
       "      <td>1.079899</td>\n",
       "      <td>0.668016</td>\n",
       "      <td>1.190645</td>\n",
       "      <td>1.275682</td>\n",
       "      <td>-0.019282</td>\n",
       "      <td>-0.565333</td>\n",
       "      <td>-0.056846</td>\n",
       "      <td>-0.035219</td>\n",
       "      <td>-0.062091</td>\n",
       "      <td>...</td>\n",
       "      <td>-0.019282</td>\n",
       "      <td>-0.031497</td>\n",
       "      <td>-0.279527</td>\n",
       "      <td>-0.111431</td>\n",
       "      <td>-0.135722</td>\n",
       "      <td>-0.031497</td>\n",
       "      <td>-0.157339</td>\n",
       "      <td>-0.383085</td>\n",
       "      <td>-0.090099</td>\n",
       "      <td>-0.031497</td>\n",
       "    </tr>\n",
       "    <tr>\n",
       "      <th>8068</th>\n",
       "      <td>-1.207661</td>\n",
       "      <td>-0.059616</td>\n",
       "      <td>0.006877</td>\n",
       "      <td>1.190645</td>\n",
       "      <td>1.275682</td>\n",
       "      <td>-0.019282</td>\n",
       "      <td>-0.565333</td>\n",
       "      <td>-0.056846</td>\n",
       "      <td>-0.035219</td>\n",
       "      <td>-0.062091</td>\n",
       "      <td>...</td>\n",
       "      <td>-0.019282</td>\n",
       "      <td>-0.031497</td>\n",
       "      <td>3.577470</td>\n",
       "      <td>-0.111431</td>\n",
       "      <td>-0.135722</td>\n",
       "      <td>-0.031497</td>\n",
       "      <td>-0.157339</td>\n",
       "      <td>-0.383085</td>\n",
       "      <td>-0.090099</td>\n",
       "      <td>-0.031497</td>\n",
       "    </tr>\n",
       "    <tr>\n",
       "      <th>8069</th>\n",
       "      <td>-1.207661</td>\n",
       "      <td>1.632391</td>\n",
       "      <td>0.753949</td>\n",
       "      <td>-0.807684</td>\n",
       "      <td>0.708040</td>\n",
       "      <td>-0.019282</td>\n",
       "      <td>1.768870</td>\n",
       "      <td>-0.056846</td>\n",
       "      <td>-0.035219</td>\n",
       "      <td>-0.062091</td>\n",
       "      <td>...</td>\n",
       "      <td>-0.019282</td>\n",
       "      <td>-0.031497</td>\n",
       "      <td>-0.279527</td>\n",
       "      <td>-0.111431</td>\n",
       "      <td>-0.135722</td>\n",
       "      <td>-0.031497</td>\n",
       "      <td>-0.157339</td>\n",
       "      <td>-0.383085</td>\n",
       "      <td>-0.090099</td>\n",
       "      <td>-0.031497</td>\n",
       "    </tr>\n",
       "    <tr>\n",
       "      <th>8070</th>\n",
       "      <td>0.141203</td>\n",
       "      <td>0.976307</td>\n",
       "      <td>-0.280339</td>\n",
       "      <td>-0.807684</td>\n",
       "      <td>-0.711064</td>\n",
       "      <td>-0.019282</td>\n",
       "      <td>1.768870</td>\n",
       "      <td>-0.056846</td>\n",
       "      <td>-0.035219</td>\n",
       "      <td>-0.062091</td>\n",
       "      <td>...</td>\n",
       "      <td>-0.019282</td>\n",
       "      <td>-0.031497</td>\n",
       "      <td>-0.279527</td>\n",
       "      <td>-0.111431</td>\n",
       "      <td>-0.135722</td>\n",
       "      <td>-0.031497</td>\n",
       "      <td>-0.157339</td>\n",
       "      <td>-0.383085</td>\n",
       "      <td>-0.090099</td>\n",
       "      <td>-0.031497</td>\n",
       "    </tr>\n",
       "    <tr>\n",
       "      <th>8071</th>\n",
       "      <td>-1.207661</td>\n",
       "      <td>0.458345</td>\n",
       "      <td>-0.227695</td>\n",
       "      <td>-0.807684</td>\n",
       "      <td>-0.994885</td>\n",
       "      <td>-0.019282</td>\n",
       "      <td>1.768870</td>\n",
       "      <td>-0.056846</td>\n",
       "      <td>-0.035219</td>\n",
       "      <td>-0.062091</td>\n",
       "      <td>...</td>\n",
       "      <td>-0.019282</td>\n",
       "      <td>-0.031497</td>\n",
       "      <td>-0.279527</td>\n",
       "      <td>-0.111431</td>\n",
       "      <td>-0.135722</td>\n",
       "      <td>-0.031497</td>\n",
       "      <td>-0.157339</td>\n",
       "      <td>-0.383085</td>\n",
       "      <td>-0.090099</td>\n",
       "      <td>-0.031497</td>\n",
       "    </tr>\n",
       "  </tbody>\n",
       "</table>\n",
       "<p>8072 rows × 57 columns</p>\n",
       "</div>"
      ],
      "text/plain": [
       "            0         1         2         3         4         5         6   \\\n",
       "0    -1.207661  1.252553  1.182838 -0.807684  0.708040 -0.019282  1.768870   \n",
       "1     0.141203 -1.544439 -1.605713 -0.807684 -0.994885 -0.019282 -0.565333   \n",
       "2     0.141203 -0.922885  1.065164 -0.807684  0.708040 -0.019282  1.768870   \n",
       "3     0.141203 -0.750231 -1.470234  0.268339 -0.994885 -0.019282  1.768870   \n",
       "4     0.141203  0.700061  0.268546 -0.807684  0.708040 -0.019282 -0.565333   \n",
       "...        ...       ...       ...       ...       ...       ...       ...   \n",
       "8067  1.490067  1.079899  0.668016  1.190645  1.275682 -0.019282 -0.565333   \n",
       "8068 -1.207661 -0.059616  0.006877  1.190645  1.275682 -0.019282 -0.565333   \n",
       "8069 -1.207661  1.632391  0.753949 -0.807684  0.708040 -0.019282  1.768870   \n",
       "8070  0.141203  0.976307 -0.280339 -0.807684 -0.711064 -0.019282  1.768870   \n",
       "8071 -1.207661  0.458345 -0.227695 -0.807684 -0.994885 -0.019282  1.768870   \n",
       "\n",
       "            7         8         9   ...        47        48        49  \\\n",
       "0    -0.056846 -0.035219 -0.062091  ... -0.019282 -0.031497 -0.279527   \n",
       "1    -0.056846 -0.035219 -0.062091  ... -0.019282 -0.031497 -0.279527   \n",
       "2    -0.056846 -0.035219 -0.062091  ... -0.019282 -0.031497 -0.279527   \n",
       "3    -0.056846 -0.035219 -0.062091  ... -0.019282 -0.031497 -0.279527   \n",
       "4    -0.056846 -0.035219 -0.062091  ... -0.019282 -0.031497 -0.279527   \n",
       "...        ...       ...       ...  ...       ...       ...       ...   \n",
       "8067 -0.056846 -0.035219 -0.062091  ... -0.019282 -0.031497 -0.279527   \n",
       "8068 -0.056846 -0.035219 -0.062091  ... -0.019282 -0.031497  3.577470   \n",
       "8069 -0.056846 -0.035219 -0.062091  ... -0.019282 -0.031497 -0.279527   \n",
       "8070 -0.056846 -0.035219 -0.062091  ... -0.019282 -0.031497 -0.279527   \n",
       "8071 -0.056846 -0.035219 -0.062091  ... -0.019282 -0.031497 -0.279527   \n",
       "\n",
       "            50        51        52        53        54        55        56  \n",
       "0    -0.111431 -0.135722 -0.031497 -0.157339 -0.383085 -0.090099 -0.031497  \n",
       "1    -0.111431 -0.135722 -0.031497 -0.157339 -0.383085 -0.090099 -0.031497  \n",
       "2    -0.111431 -0.135722 -0.031497 -0.157339 -0.383085 -0.090099 -0.031497  \n",
       "3    -0.111431 -0.135722 -0.031497 -0.157339 -0.383085 -0.090099 -0.031497  \n",
       "4    -0.111431 -0.135722 -0.031497 -0.157339 -0.383085 -0.090099 -0.031497  \n",
       "...        ...       ...       ...       ...       ...       ...       ...  \n",
       "8067 -0.111431 -0.135722 -0.031497 -0.157339 -0.383085 -0.090099 -0.031497  \n",
       "8068 -0.111431 -0.135722 -0.031497 -0.157339 -0.383085 -0.090099 -0.031497  \n",
       "8069 -0.111431 -0.135722 -0.031497 -0.157339 -0.383085 -0.090099 -0.031497  \n",
       "8070 -0.111431 -0.135722 -0.031497 -0.157339 -0.383085 -0.090099 -0.031497  \n",
       "8071 -0.111431 -0.135722 -0.031497 -0.157339 -0.383085 -0.090099 -0.031497  \n",
       "\n",
       "[8072 rows x 57 columns]"
      ]
     },
     "execution_count": 50,
     "metadata": {},
     "output_type": "execute_result"
    }
   ],
   "source": [
    "test"
   ]
  },
  {
   "cell_type": "markdown",
   "metadata": {},
   "source": [
    "### Breed_category test prediction"
   ]
  },
  {
   "cell_type": "code",
   "execution_count": 51,
   "metadata": {},
   "outputs": [],
   "source": [
    "#.fit(X_train,y_train)"
   ]
  },
  {
   "cell_type": "code",
   "execution_count": 52,
   "metadata": {},
   "outputs": [],
   "source": [
    "test_pred=classifier.predict(test.values)"
   ]
  },
  {
   "cell_type": "code",
   "execution_count": 53,
   "metadata": {},
   "outputs": [
    {
     "data": {
      "text/plain": [
       "array([1, 0, 0, ..., 1, 2, 1], dtype=int64)"
      ]
     },
     "execution_count": 53,
     "metadata": {},
     "output_type": "execute_result"
    }
   ],
   "source": [
    "#Breed_category\n",
    "test_pred"
   ]
  },
  {
   "cell_type": "markdown",
   "metadata": {},
   "source": [
    "### pet_category test prediction"
   ]
  },
  {
   "cell_type": "code",
   "execution_count": 54,
   "metadata": {},
   "outputs": [],
   "source": [
    "test_pred1=classifier1.predict(test.values)"
   ]
  },
  {
   "cell_type": "code",
   "execution_count": 55,
   "metadata": {},
   "outputs": [
    {
     "data": {
      "text/plain": [
       "array([2, 1, 2, ..., 2, 4, 2], dtype=int64)"
      ]
     },
     "execution_count": 55,
     "metadata": {},
     "output_type": "execute_result"
    }
   ],
   "source": [
    "#pet_category\n",
    "test_pred1"
   ]
  },
  {
   "cell_type": "markdown",
   "metadata": {},
   "source": [
    "### Accuracy score"
   ]
  },
  {
   "cell_type": "code",
   "execution_count": 56,
   "metadata": {},
   "outputs": [
    {
     "data": {
      "text/plain": [
       "0.8708172458172458"
      ]
     },
     "execution_count": 56,
     "metadata": {},
     "output_type": "execute_result"
    }
   ],
   "source": [
    "from sklearn.metrics import accuracy_score\n",
    "accuracy_score(y_test,y_pred)"
   ]
  },
  {
   "cell_type": "code",
   "execution_count": 57,
   "metadata": {},
   "outputs": [
    {
     "name": "stdout",
     "output_type": "stream",
     "text": [
      "              precision    recall  f1-score   support\n",
      "\n",
      "           0       0.84      0.89      0.87      2960\n",
      "           1       0.91      0.87      0.89      2771\n",
      "           2       0.82      0.72      0.77       485\n",
      "\n",
      "    accuracy                           0.87      6216\n",
      "   macro avg       0.86      0.83      0.84      6216\n",
      "weighted avg       0.87      0.87      0.87      6216\n",
      "\n"
     ]
    }
   ],
   "source": [
    "from sklearn.metrics import classification_report\n",
    "print(classification_report(y_test,y_pred))"
   ]
  },
  {
   "cell_type": "markdown",
   "metadata": {},
   "source": [
    "### submission"
   ]
  },
  {
   "cell_type": "code",
   "execution_count": 58,
   "metadata": {},
   "outputs": [],
   "source": [
    "submission=pd.DataFrame({'pet_id':pet_id,'breed_category':test_pred,'pet_category':test_pred1})"
   ]
  },
  {
   "cell_type": "code",
   "execution_count": 59,
   "metadata": {},
   "outputs": [
    {
     "data": {
      "text/html": [
       "<div>\n",
       "<style scoped>\n",
       "    .dataframe tbody tr th:only-of-type {\n",
       "        vertical-align: middle;\n",
       "    }\n",
       "\n",
       "    .dataframe tbody tr th {\n",
       "        vertical-align: top;\n",
       "    }\n",
       "\n",
       "    .dataframe thead th {\n",
       "        text-align: right;\n",
       "    }\n",
       "</style>\n",
       "<table border=\"1\" class=\"dataframe\">\n",
       "  <thead>\n",
       "    <tr style=\"text-align: right;\">\n",
       "      <th></th>\n",
       "      <th>pet_id</th>\n",
       "      <th>breed_category</th>\n",
       "      <th>pet_category</th>\n",
       "    </tr>\n",
       "  </thead>\n",
       "  <tbody>\n",
       "    <tr>\n",
       "      <th>0</th>\n",
       "      <td>ANSL_75005</td>\n",
       "      <td>1</td>\n",
       "      <td>2</td>\n",
       "    </tr>\n",
       "    <tr>\n",
       "      <th>1</th>\n",
       "      <td>ANSL_76663</td>\n",
       "      <td>0</td>\n",
       "      <td>1</td>\n",
       "    </tr>\n",
       "    <tr>\n",
       "      <th>2</th>\n",
       "      <td>ANSL_58259</td>\n",
       "      <td>0</td>\n",
       "      <td>2</td>\n",
       "    </tr>\n",
       "    <tr>\n",
       "      <th>3</th>\n",
       "      <td>ANSL_67171</td>\n",
       "      <td>0</td>\n",
       "      <td>1</td>\n",
       "    </tr>\n",
       "    <tr>\n",
       "      <th>4</th>\n",
       "      <td>ANSL_72871</td>\n",
       "      <td>0</td>\n",
       "      <td>2</td>\n",
       "    </tr>\n",
       "    <tr>\n",
       "      <th>5</th>\n",
       "      <td>ANSL_64886</td>\n",
       "      <td>1</td>\n",
       "      <td>1</td>\n",
       "    </tr>\n",
       "    <tr>\n",
       "      <th>6</th>\n",
       "      <td>ANSL_73798</td>\n",
       "      <td>1</td>\n",
       "      <td>2</td>\n",
       "    </tr>\n",
       "    <tr>\n",
       "      <th>7</th>\n",
       "      <td>ANSL_53131</td>\n",
       "      <td>1</td>\n",
       "      <td>2</td>\n",
       "    </tr>\n",
       "    <tr>\n",
       "      <th>8</th>\n",
       "      <td>ANSL_66674</td>\n",
       "      <td>1</td>\n",
       "      <td>1</td>\n",
       "    </tr>\n",
       "    <tr>\n",
       "      <th>9</th>\n",
       "      <td>ANSL_55165</td>\n",
       "      <td>1</td>\n",
       "      <td>2</td>\n",
       "    </tr>\n",
       "    <tr>\n",
       "      <th>10</th>\n",
       "      <td>ANSL_74518</td>\n",
       "      <td>0</td>\n",
       "      <td>2</td>\n",
       "    </tr>\n",
       "    <tr>\n",
       "      <th>11</th>\n",
       "      <td>ANSL_72217</td>\n",
       "      <td>0</td>\n",
       "      <td>2</td>\n",
       "    </tr>\n",
       "    <tr>\n",
       "      <th>12</th>\n",
       "      <td>ANSL_55812</td>\n",
       "      <td>0</td>\n",
       "      <td>2</td>\n",
       "    </tr>\n",
       "    <tr>\n",
       "      <th>13</th>\n",
       "      <td>ANSL_55318</td>\n",
       "      <td>1</td>\n",
       "      <td>2</td>\n",
       "    </tr>\n",
       "    <tr>\n",
       "      <th>14</th>\n",
       "      <td>ANSL_65677</td>\n",
       "      <td>1</td>\n",
       "      <td>2</td>\n",
       "    </tr>\n",
       "    <tr>\n",
       "      <th>15</th>\n",
       "      <td>ANSL_74873</td>\n",
       "      <td>1</td>\n",
       "      <td>2</td>\n",
       "    </tr>\n",
       "    <tr>\n",
       "      <th>16</th>\n",
       "      <td>ANSL_56546</td>\n",
       "      <td>1</td>\n",
       "      <td>1</td>\n",
       "    </tr>\n",
       "    <tr>\n",
       "      <th>17</th>\n",
       "      <td>ANSL_76135</td>\n",
       "      <td>0</td>\n",
       "      <td>2</td>\n",
       "    </tr>\n",
       "    <tr>\n",
       "      <th>18</th>\n",
       "      <td>ANSL_64881</td>\n",
       "      <td>0</td>\n",
       "      <td>1</td>\n",
       "    </tr>\n",
       "    <tr>\n",
       "      <th>19</th>\n",
       "      <td>ANSL_73262</td>\n",
       "      <td>2</td>\n",
       "      <td>4</td>\n",
       "    </tr>\n",
       "  </tbody>\n",
       "</table>\n",
       "</div>"
      ],
      "text/plain": [
       "        pet_id  breed_category  pet_category\n",
       "0   ANSL_75005               1             2\n",
       "1   ANSL_76663               0             1\n",
       "2   ANSL_58259               0             2\n",
       "3   ANSL_67171               0             1\n",
       "4   ANSL_72871               0             2\n",
       "5   ANSL_64886               1             1\n",
       "6   ANSL_73798               1             2\n",
       "7   ANSL_53131               1             2\n",
       "8   ANSL_66674               1             1\n",
       "9   ANSL_55165               1             2\n",
       "10  ANSL_74518               0             2\n",
       "11  ANSL_72217               0             2\n",
       "12  ANSL_55812               0             2\n",
       "13  ANSL_55318               1             2\n",
       "14  ANSL_65677               1             2\n",
       "15  ANSL_74873               1             2\n",
       "16  ANSL_56546               1             1\n",
       "17  ANSL_76135               0             2\n",
       "18  ANSL_64881               0             1\n",
       "19  ANSL_73262               2             4"
      ]
     },
     "execution_count": 59,
     "metadata": {},
     "output_type": "execute_result"
    }
   ],
   "source": [
    "submission.head(20)"
   ]
  },
  {
   "cell_type": "code",
   "execution_count": 60,
   "metadata": {},
   "outputs": [],
   "source": [
    "#To save as a csv file format\n",
    "submission.to_csv('submissionXGBoost.csv',index=False)"
   ]
  }
 ],
 "metadata": {
  "kernelspec": {
   "display_name": "Python 3",
   "language": "python",
   "name": "python3"
  },
  "language_info": {
   "codemirror_mode": {
    "name": "ipython",
    "version": 3
   },
   "file_extension": ".py",
   "mimetype": "text/x-python",
   "name": "python",
   "nbconvert_exporter": "python",
   "pygments_lexer": "ipython3",
   "version": "3.7.4"
  }
 },
 "nbformat": 4,
 "nbformat_minor": 4
}
